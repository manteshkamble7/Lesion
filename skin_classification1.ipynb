{
 "cells": [
  {
   "cell_type": "code",
   "execution_count": null,
   "metadata": {},
   "outputs": [],
   "source": []
  },
  {
   "cell_type": "code",
   "execution_count": 1,
   "metadata": {
    "id": "bEisFVhWSNbr"
   },
   "outputs": [],
   "source": [
    "import numpy as np # l|inear algebra\n",
    "import pandas as pd # data processing, CSV file I/O (e.g. pd.read_csv)"
   ]
  },
  {
   "cell_type": "code",
   "execution_count": 2,
   "metadata": {
    "id": "88UdiqUUSNbx"
   },
   "outputs": [],
   "source": [
    "# Imports\n",
    "import matplotlib.pyplot as plt\n",
    "import seaborn as sns\n",
    "import cv2\n",
    "import sklearn\n",
    "import random\n",
    "import tensorflow as tf\n",
    "import os\n",
    "from tqdm import tqdm\n",
    "from tensorflow.keras.preprocessing.image import ImageDataGenerator"
   ]
  },
  {
   "cell_type": "code",
   "execution_count": 3,
   "metadata": {
    "id": "StbZC0gjSNb6"
   },
   "outputs": [],
   "source": [
    "# base_path and labels.\n",
    "base_path = 'D:/Dataset_ISIC2019'\n",
    "labels = ['AK', 'BCC', 'BKL' ,'DF' ,'MEL' ,'NV' , 'SCC' , 'VASC']"
   ]
  },
  {
   "cell_type": "code",
   "execution_count": 4,
   "metadata": {
    "id": "WMGciPYkSNb7"
   },
   "outputs": [],
   "source": [
    "# Constants\n",
    "IMAGE_SIZE = 224\n",
    "BATCH_SIZE = 64\n",
    "VERBOSE = 1"
   ]
  },
  {
   "cell_type": "code",
   "execution_count": null,
   "metadata": {
    "id": "VjxJacbAwDuM"
   },
   "outputs": [],
   "source": []
  },
  {
   "cell_type": "code",
   "execution_count": 5,
   "metadata": {
    "colab": {
     "base_uri": "https://localhost:8080/"
    },
    "executionInfo": {
     "elapsed": 239740,
     "status": "ok",
     "timestamp": 1641384231973,
     "user": {
      "displayName": "Pramod M",
      "photoUrl": "https://lh3.googleusercontent.com/a-/AOh14GhACZYYVJf7SJ3fexsWl8-NZ0E9GwdA3AYfAwMLdQU=s64",
      "userId": "13057132913855779854"
     },
     "user_tz": -330
    },
    "id": "XSe7bDxUwEPY",
    "outputId": "2ce1c931-f25d-46b0-d483-c8ca836bebb2"
   },
   "outputs": [
    {
     "name": "stderr",
     "output_type": "stream",
     "text": [
      "100%|████████████████████████████████████████████████████████████████████████████████| 397/397 [00:38<00:00, 10.37it/s]\n",
      "100%|██████████████████████████████████████████████████████████████████████████████| 1718/1718 [02:09<00:00, 13.23it/s]\n",
      "100%|██████████████████████████████████████████████████████████████████████████████| 1327/1327 [00:40<00:00, 32.51it/s]\n",
      "100%|████████████████████████████████████████████████████████████████████████████████| 139/139 [00:03<00:00, 35.68it/s]\n",
      "100%|██████████████████████████████████████████████████████████████████████████████| 2272/2272 [01:02<00:00, 36.54it/s]\n",
      "100%|██████████████████████████████████████████████████████████████████████████████| 6265/6265 [03:39<00:00, 28.58it/s]\n",
      "100%|████████████████████████████████████████████████████████████████████████████████| 297/297 [00:10<00:00, 27.05it/s]\n",
      "100%|████████████████████████████████████████████████████████████████████████████████| 108/108 [00:03<00:00, 32.61it/s]\n"
     ]
    },
    {
     "name": "stdout",
     "output_type": "stream",
     "text": [
      "Training dataset Loading complete.\n",
      "Testing dataset Loading complete.\n"
     ]
    }
   ],
   "source": [
    "# Dataset from the training folder.\n",
    "x_train=[]\n",
    "y_train=[]\n",
    "for i in labels:\n",
    "    folderPath = os.path.join(os.path.join(base_path,'train'),i)\n",
    "    for j in tqdm(os.listdir(folderPath)):\n",
    "        img = cv2.imread(os.path.join(folderPath,j))\n",
    "        img = cv2.resize(img, (IMAGE_SIZE,IMAGE_SIZE))\n",
    "        x_train.append(img)\n",
    "        y_train.append(i)\n",
    "print('Training dataset Loading complete.')\n",
    "x_train = np.array(x_train)\n",
    "y_train = np.array(y_train)\n",
    "x_train, y_train = sklearn.utils.shuffle(x_train, y_train, random_state=0)\n",
    "\n",
    "print('Testing dataset Loading complete.')"
   ]
  },
  {
   "cell_type": "code",
   "execution_count": 6,
   "metadata": {
    "colab": {
     "base_uri": "https://localhost:8080/"
    },
    "executionInfo": {
     "elapsed": 55141,
     "status": "ok",
     "timestamp": 1641384287092,
     "user": {
      "displayName": "Pramod M",
      "photoUrl": "https://lh3.googleusercontent.com/a-/AOh14GhACZYYVJf7SJ3fexsWl8-NZ0E9GwdA3AYfAwMLdQU=s64",
      "userId": "13057132913855779854"
     },
     "user_tz": -330
    },
    "id": "8M6DGgR2TcO2",
    "outputId": "7b1040b1-d411-4336-9cbc-13289966476b"
   },
   "outputs": [
    {
     "name": "stderr",
     "output_type": "stream",
     "text": [
      "100%|████████████████████████████████████████████████████████████████████████████████| 291/291 [00:11<00:00, 25.56it/s]\n",
      "100%|██████████████████████████████████████████████████████████████████████████████| 1039/1039 [00:29<00:00, 34.67it/s]\n",
      "100%|████████████████████████████████████████████████████████████████████████████████| 865/865 [00:17<00:00, 50.33it/s]\n",
      "100%|██████████████████████████████████████████████████████████████████████████████████| 62/62 [00:01<00:00, 39.69it/s]\n",
      "100%|██████████████████████████████████████████████████████████████████████████████| 1397/1397 [00:54<00:00, 25.68it/s]\n",
      "100%|██████████████████████████████████████████████████████████████████████████████| 3967/3967 [02:09<00:00, 30.67it/s]\n",
      "100%|████████████████████████████████████████████████████████████████████████████████| 206/206 [00:10<00:00, 20.24it/s]\n",
      "100%|██████████████████████████████████████████████████████████████████████████████████| 90/90 [00:02<00:00, 30.00it/s]\n"
     ]
    },
    {
     "name": "stdout",
     "output_type": "stream",
     "text": [
      "Training dataset Loading complete.\n",
      "Testing dataset Loading complete.\n"
     ]
    }
   ],
   "source": [
    "# Dataset from the training folder.\n",
    "x_test=[]\n",
    "y_test=[]\n",
    "for i in labels:\n",
    "    folderPath = os.path.join(os.path.join(base_path,'test'),i)\n",
    "    for j in tqdm(os.listdir(folderPath)):\n",
    "        img = cv2.imread(os.path.join(folderPath,j))\n",
    "        img = cv2.resize(img, (IMAGE_SIZE,IMAGE_SIZE))\n",
    "        x_test.append(img)\n",
    "        y_test.append(i)\n",
    "print('Training dataset Loading complete.')\n",
    "x_test = np.array(x_test)\n",
    "y_test = np.array(y_test)\n",
    "x_test, y_test = sklearn.utils.shuffle(x_test, y_test, random_state=0)\n",
    "\n",
    "print('Testing dataset Loading complete.')"
   ]
  },
  {
   "cell_type": "code",
   "execution_count": 7,
   "metadata": {
    "colab": {
     "base_uri": "https://localhost:8080/"
    },
    "executionInfo": {
     "elapsed": 22677,
     "status": "ok",
     "timestamp": 1641384309740,
     "user": {
      "displayName": "Pramod M",
      "photoUrl": "https://lh3.googleusercontent.com/a-/AOh14GhACZYYVJf7SJ3fexsWl8-NZ0E9GwdA3AYfAwMLdQU=s64",
      "userId": "13057132913855779854"
     },
     "user_tz": -330
    },
    "id": "BCR2PN-vwEPZ",
    "outputId": "d8af1211-432a-4b8a-c03c-f7d905ece418"
   },
   "outputs": [
    {
     "name": "stderr",
     "output_type": "stream",
     "text": [
      "100%|████████████████████████████████████████████████████████████████████████████████| 178/178 [00:34<00:00,  5.12it/s]\n",
      "100%|████████████████████████████████████████████████████████████████████████████████| 567/567 [00:16<00:00, 33.88it/s]\n",
      "100%|████████████████████████████████████████████████████████████████████████████████| 432/432 [00:11<00:00, 36.86it/s]\n",
      "100%|██████████████████████████████████████████████████████████████████████████████████| 38/38 [00:01<00:00, 27.03it/s]\n",
      "100%|████████████████████████████████████████████████████████████████████████████████| 853/853 [00:29<00:00, 29.16it/s]\n",
      "100%|██████████████████████████████████████████████████████████████████████████████| 2461/2461 [01:14<00:00, 33.00it/s]\n",
      "100%|████████████████████████████████████████████████████████████████████████████████| 125/125 [00:06<00:00, 20.33it/s]\n",
      "100%|██████████████████████████████████████████████████████████████████████████████████| 55/55 [00:01<00:00, 32.00it/s]\n"
     ]
    },
    {
     "name": "stdout",
     "output_type": "stream",
     "text": [
      "validation dataset Loading complete.\n"
     ]
    }
   ],
   "source": [
    "x_val=[]\n",
    "y_val=[]\n",
    "for i in labels:\n",
    "    folderPath = os.path.join(os.path.join(base_path,'val'),i)\n",
    "    for j in tqdm(os.listdir(folderPath)):\n",
    "        img = cv2.imread(os.path.join(folderPath,j))\n",
    "        img = cv2.resize(img, (IMAGE_SIZE,IMAGE_SIZE))\n",
    "        x_val.append(img)\n",
    "        y_val.append(i)\n",
    "x_val = np.array(x_val)\n",
    "y_val = np.array(y_val)\n",
    "x_val, y_val = sklearn.utils.shuffle(x_val, y_val, random_state=0)\n",
    "\n",
    "print('validation dataset Loading complete.')"
   ]
  },
  {
   "cell_type": "code",
   "execution_count": 8,
   "metadata": {
    "id": "JVOOPduPSNcK"
   },
   "outputs": [],
   "source": [
    "# j=0\n",
    "# for i in labels:\n",
    "#     j=0\n",
    "#     while True :\n",
    "#         if y_train[j]==i:\n",
    "#             plt.figure(figsize = (5,5))\n",
    "#             plt.imshow(x_train[j])\n",
    "#             plt.title(y_train[j])\n",
    "#             break\n",
    "#         j+=1"
   ]
  },
  {
   "cell_type": "code",
   "execution_count": 9,
   "metadata": {
    "colab": {
     "base_uri": "https://localhost:8080/"
    },
    "executionInfo": {
     "elapsed": 22,
     "status": "ok",
     "timestamp": 1641384309741,
     "user": {
      "displayName": "Pramod M",
      "photoUrl": "https://lh3.googleusercontent.com/a-/AOh14GhACZYYVJf7SJ3fexsWl8-NZ0E9GwdA3AYfAwMLdQU=s64",
      "userId": "13057132913855779854"
     },
     "user_tz": -330
    },
    "id": "b50ZXx_dSNcL",
    "outputId": "8f797bde-a630-4664-ea05-e20abc024881"
   },
   "outputs": [
    {
     "data": {
      "text/plain": [
       "(12523, 224, 224, 3)"
      ]
     },
     "execution_count": 9,
     "metadata": {},
     "output_type": "execute_result"
    }
   ],
   "source": [
    "# datagen = ImageDataGenerator(\n",
    "#     featurewise_center=False,\n",
    "#     samplewise_center=False,\n",
    "#     featurewise_std_normalization=False,\n",
    "#     samplewise_std_normalization=False,\n",
    "#     zca_whitening=False,\n",
    "#     rotation_range=30,\n",
    "#     width_shift_range=0.1,\n",
    "#     height_shift_range=0.1,\n",
    "#     zoom_range=0.2,\n",
    "#     horizontal_flip=True, vertical_flip=False\n",
    "# )\n",
    "\n",
    "# datagen.fit(x_train)\n",
    "x_train.shape"
   ]
  },
  {
   "cell_type": "code",
   "execution_count": 10,
   "metadata": {
    "id": "PgBOtkUCSNcM"
   },
   "outputs": [],
   "source": [
    "# # Splitting of dataset for Testing.\n",
    "# from sklearn.model_selection import train_test_split\n",
    "# x_train, x_test, y_train, y_test = train_test_split(x_train, y_train, random_state=0)\n",
    "\n",
    "# print(\"Shapes X : Train :\",x_train.shape,  \" Test :\",x_test.shape)\n",
    "# print(\"Shapes Y : Train :\",y_train.shape,  \" Test :\",y_test.shape)"
   ]
  },
  {
   "cell_type": "code",
   "execution_count": 11,
   "metadata": {
    "id": "N-eR6jTDSNcN"
   },
   "outputs": [],
   "source": [
    "y_train_new = []\n",
    "for i in y_train:\n",
    "    y_train_new.append(labels.index(i))\n",
    "y_train = y_train_new\n",
    "y_train = tf.keras.utils.to_categorical(y_train)\n",
    "\n",
    "\n",
    "y_test_new = []\n",
    "for i in y_test:\n",
    "    y_test_new.append(labels.index(i))\n",
    "y_test = y_test_new\n",
    "y_test = tf.keras.utils.to_categorical(y_test)"
   ]
  },
  {
   "cell_type": "code",
   "execution_count": 12,
   "metadata": {
    "id": "XKHL5e7TAWo7"
   },
   "outputs": [],
   "source": [
    "y_val_new = []\n",
    "for i in y_val:\n",
    "    y_val_new.append(labels.index(i))\n",
    "y_val = y_val_new\n",
    "y_val = tf.keras.utils.to_categorical(y_val)"
   ]
  },
  {
   "cell_type": "code",
   "execution_count": 13,
   "metadata": {
    "colab": {
     "base_uri": "https://localhost:8080/"
    },
    "executionInfo": {
     "elapsed": 19,
     "status": "ok",
     "timestamp": 1641384309743,
     "user": {
      "displayName": "Pramod M",
      "photoUrl": "https://lh3.googleusercontent.com/a-/AOh14GhACZYYVJf7SJ3fexsWl8-NZ0E9GwdA3AYfAwMLdQU=s64",
      "userId": "13057132913855779854"
     },
     "user_tz": -330
    },
    "id": "GGH5sx3Onmai",
    "outputId": "726d648b-2281-4d2b-9449-1b26c7b45477"
   },
   "outputs": [
    {
     "data": {
      "text/plain": [
       "<function keras.src.applications.mobilenet.preprocess_input(x, data_format=None)>"
      ]
     },
     "execution_count": 13,
     "metadata": {},
     "output_type": "execute_result"
    }
   ],
   "source": [
    "import tensorflow as tf\n",
    "tf.keras.applications.mobilenet.preprocess_input"
   ]
  },
  {
   "cell_type": "code",
   "execution_count": 14,
   "metadata": {
    "colab": {
     "base_uri": "https://localhost:8080/"
    },
    "executionInfo": {
     "elapsed": 5104,
     "status": "ok",
     "timestamp": 1641384314830,
     "user": {
      "displayName": "Pramod M",
      "photoUrl": "https://lh3.googleusercontent.com/a-/AOh14GhACZYYVJf7SJ3fexsWl8-NZ0E9GwdA3AYfAwMLdQU=s64",
      "userId": "13057132913855779854"
     },
     "user_tz": -330
    },
    "id": "3PjPqMF1SNcP",
    "outputId": "c64fb4a8-5f0e-415e-b7e2-9236b05f6281"
   },
   "outputs": [],
   "source": [
    "# Importing the model and initializing.\n",
    "from tensorflow.keras.applications import MobileNetV2\n",
    "mobilenet = MobileNetV2(weights = 'imagenet',include_top=False,input_shape=(IMAGE_SIZE,IMAGE_SIZE, 3))"
   ]
  },
  {
   "cell_type": "code",
   "execution_count": 15,
   "metadata": {
    "id": "kZcidnyhSNcP"
   },
   "outputs": [
    {
     "name": "stdout",
     "output_type": "stream",
     "text": [
      "Model: \"model\"\n",
      "__________________________________________________________________________________________________\n",
      " Layer (type)                Output Shape                 Param #   Connected to                  \n",
      "==================================================================================================\n",
      " input_1 (InputLayer)        [(None, 224, 224, 3)]        0         []                            \n",
      "                                                                                                  \n",
      " Conv1 (Conv2D)              (None, 112, 112, 32)         864       ['input_1[0][0]']             \n",
      "                                                                                                  \n",
      " bn_Conv1 (BatchNormalizati  (None, 112, 112, 32)         128       ['Conv1[0][0]']               \n",
      " on)                                                                                              \n",
      "                                                                                                  \n",
      " Conv1_relu (ReLU)           (None, 112, 112, 32)         0         ['bn_Conv1[0][0]']            \n",
      "                                                                                                  \n",
      " expanded_conv_depthwise (D  (None, 112, 112, 32)         288       ['Conv1_relu[0][0]']          \n",
      " epthwiseConv2D)                                                                                  \n",
      "                                                                                                  \n",
      " expanded_conv_depthwise_BN  (None, 112, 112, 32)         128       ['expanded_conv_depthwise[0][0\n",
      "  (BatchNormalization)                                              ]']                           \n",
      "                                                                                                  \n",
      " expanded_conv_depthwise_re  (None, 112, 112, 32)         0         ['expanded_conv_depthwise_BN[0\n",
      " lu (ReLU)                                                          ][0]']                        \n",
      "                                                                                                  \n",
      " expanded_conv_project (Con  (None, 112, 112, 16)         512       ['expanded_conv_depthwise_relu\n",
      " v2D)                                                               [0][0]']                      \n",
      "                                                                                                  \n",
      " expanded_conv_project_BN (  (None, 112, 112, 16)         64        ['expanded_conv_project[0][0]'\n",
      " BatchNormalization)                                                ]                             \n",
      "                                                                                                  \n",
      " block_1_expand (Conv2D)     (None, 112, 112, 96)         1536      ['expanded_conv_project_BN[0][\n",
      "                                                                    0]']                          \n",
      "                                                                                                  \n",
      " block_1_expand_BN (BatchNo  (None, 112, 112, 96)         384       ['block_1_expand[0][0]']      \n",
      " rmalization)                                                                                     \n",
      "                                                                                                  \n",
      " block_1_expand_relu (ReLU)  (None, 112, 112, 96)         0         ['block_1_expand_BN[0][0]']   \n",
      "                                                                                                  \n",
      " block_1_pad (ZeroPadding2D  (None, 113, 113, 96)         0         ['block_1_expand_relu[0][0]'] \n",
      " )                                                                                                \n",
      "                                                                                                  \n",
      " block_1_depthwise (Depthwi  (None, 56, 56, 96)           864       ['block_1_pad[0][0]']         \n",
      " seConv2D)                                                                                        \n",
      "                                                                                                  \n",
      " block_1_depthwise_BN (Batc  (None, 56, 56, 96)           384       ['block_1_depthwise[0][0]']   \n",
      " hNormalization)                                                                                  \n",
      "                                                                                                  \n",
      " block_1_depthwise_relu (Re  (None, 56, 56, 96)           0         ['block_1_depthwise_BN[0][0]']\n",
      " LU)                                                                                              \n",
      "                                                                                                  \n",
      " block_1_project (Conv2D)    (None, 56, 56, 24)           2304      ['block_1_depthwise_relu[0][0]\n",
      "                                                                    ']                            \n",
      "                                                                                                  \n",
      " block_1_project_BN (BatchN  (None, 56, 56, 24)           96        ['block_1_project[0][0]']     \n",
      " ormalization)                                                                                    \n",
      "                                                                                                  \n",
      " block_2_expand (Conv2D)     (None, 56, 56, 144)          3456      ['block_1_project_BN[0][0]']  \n",
      "                                                                                                  \n",
      " block_2_expand_BN (BatchNo  (None, 56, 56, 144)          576       ['block_2_expand[0][0]']      \n",
      " rmalization)                                                                                     \n",
      "                                                                                                  \n",
      " block_2_expand_relu (ReLU)  (None, 56, 56, 144)          0         ['block_2_expand_BN[0][0]']   \n",
      "                                                                                                  \n",
      " block_2_depthwise (Depthwi  (None, 56, 56, 144)          1296      ['block_2_expand_relu[0][0]'] \n",
      " seConv2D)                                                                                        \n",
      "                                                                                                  \n",
      " block_2_depthwise_BN (Batc  (None, 56, 56, 144)          576       ['block_2_depthwise[0][0]']   \n",
      " hNormalization)                                                                                  \n",
      "                                                                                                  \n",
      " block_2_depthwise_relu (Re  (None, 56, 56, 144)          0         ['block_2_depthwise_BN[0][0]']\n",
      " LU)                                                                                              \n",
      "                                                                                                  \n",
      " block_2_project (Conv2D)    (None, 56, 56, 24)           3456      ['block_2_depthwise_relu[0][0]\n",
      "                                                                    ']                            \n",
      "                                                                                                  \n",
      " block_2_project_BN (BatchN  (None, 56, 56, 24)           96        ['block_2_project[0][0]']     \n",
      " ormalization)                                                                                    \n",
      "                                                                                                  \n",
      " block_2_add (Add)           (None, 56, 56, 24)           0         ['block_1_project_BN[0][0]',  \n",
      "                                                                     'block_2_project_BN[0][0]']  \n",
      "                                                                                                  \n",
      " block_3_expand (Conv2D)     (None, 56, 56, 144)          3456      ['block_2_add[0][0]']         \n",
      "                                                                                                  \n",
      " block_3_expand_BN (BatchNo  (None, 56, 56, 144)          576       ['block_3_expand[0][0]']      \n",
      " rmalization)                                                                                     \n",
      "                                                                                                  \n"
     ]
    },
    {
     "name": "stdout",
     "output_type": "stream",
     "text": [
      " block_3_expand_relu (ReLU)  (None, 56, 56, 144)          0         ['block_3_expand_BN[0][0]']   \n",
      "                                                                                                  \n",
      " block_3_pad (ZeroPadding2D  (None, 57, 57, 144)          0         ['block_3_expand_relu[0][0]'] \n",
      " )                                                                                                \n",
      "                                                                                                  \n",
      " block_3_depthwise (Depthwi  (None, 28, 28, 144)          1296      ['block_3_pad[0][0]']         \n",
      " seConv2D)                                                                                        \n",
      "                                                                                                  \n",
      " block_3_depthwise_BN (Batc  (None, 28, 28, 144)          576       ['block_3_depthwise[0][0]']   \n",
      " hNormalization)                                                                                  \n",
      "                                                                                                  \n",
      " block_3_depthwise_relu (Re  (None, 28, 28, 144)          0         ['block_3_depthwise_BN[0][0]']\n",
      " LU)                                                                                              \n",
      "                                                                                                  \n",
      " block_3_project (Conv2D)    (None, 28, 28, 32)           4608      ['block_3_depthwise_relu[0][0]\n",
      "                                                                    ']                            \n",
      "                                                                                                  \n",
      " block_3_project_BN (BatchN  (None, 28, 28, 32)           128       ['block_3_project[0][0]']     \n",
      " ormalization)                                                                                    \n",
      "                                                                                                  \n",
      " block_4_expand (Conv2D)     (None, 28, 28, 192)          6144      ['block_3_project_BN[0][0]']  \n",
      "                                                                                                  \n",
      " block_4_expand_BN (BatchNo  (None, 28, 28, 192)          768       ['block_4_expand[0][0]']      \n",
      " rmalization)                                                                                     \n",
      "                                                                                                  \n",
      " block_4_expand_relu (ReLU)  (None, 28, 28, 192)          0         ['block_4_expand_BN[0][0]']   \n",
      "                                                                                                  \n",
      " block_4_depthwise (Depthwi  (None, 28, 28, 192)          1728      ['block_4_expand_relu[0][0]'] \n",
      " seConv2D)                                                                                        \n",
      "                                                                                                  \n",
      " block_4_depthwise_BN (Batc  (None, 28, 28, 192)          768       ['block_4_depthwise[0][0]']   \n",
      " hNormalization)                                                                                  \n",
      "                                                                                                  \n",
      " block_4_depthwise_relu (Re  (None, 28, 28, 192)          0         ['block_4_depthwise_BN[0][0]']\n",
      " LU)                                                                                              \n",
      "                                                                                                  \n",
      " block_4_project (Conv2D)    (None, 28, 28, 32)           6144      ['block_4_depthwise_relu[0][0]\n",
      "                                                                    ']                            \n",
      "                                                                                                  \n",
      " block_4_project_BN (BatchN  (None, 28, 28, 32)           128       ['block_4_project[0][0]']     \n",
      " ormalization)                                                                                    \n",
      "                                                                                                  \n",
      " block_4_add (Add)           (None, 28, 28, 32)           0         ['block_3_project_BN[0][0]',  \n",
      "                                                                     'block_4_project_BN[0][0]']  \n",
      "                                                                                                  \n",
      " block_5_expand (Conv2D)     (None, 28, 28, 192)          6144      ['block_4_add[0][0]']         \n",
      "                                                                                                  \n",
      " block_5_expand_BN (BatchNo  (None, 28, 28, 192)          768       ['block_5_expand[0][0]']      \n",
      " rmalization)                                                                                     \n",
      "                                                                                                  \n",
      " block_5_expand_relu (ReLU)  (None, 28, 28, 192)          0         ['block_5_expand_BN[0][0]']   \n",
      "                                                                                                  \n",
      " block_5_depthwise (Depthwi  (None, 28, 28, 192)          1728      ['block_5_expand_relu[0][0]'] \n",
      " seConv2D)                                                                                        \n",
      "                                                                                                  \n",
      " block_5_depthwise_BN (Batc  (None, 28, 28, 192)          768       ['block_5_depthwise[0][0]']   \n",
      " hNormalization)                                                                                  \n",
      "                                                                                                  \n",
      " block_5_depthwise_relu (Re  (None, 28, 28, 192)          0         ['block_5_depthwise_BN[0][0]']\n",
      " LU)                                                                                              \n",
      "                                                                                                  \n",
      " block_5_project (Conv2D)    (None, 28, 28, 32)           6144      ['block_5_depthwise_relu[0][0]\n",
      "                                                                    ']                            \n",
      "                                                                                                  \n",
      " block_5_project_BN (BatchN  (None, 28, 28, 32)           128       ['block_5_project[0][0]']     \n",
      " ormalization)                                                                                    \n",
      "                                                                                                  \n",
      " block_5_add (Add)           (None, 28, 28, 32)           0         ['block_4_add[0][0]',         \n",
      "                                                                     'block_5_project_BN[0][0]']  \n",
      "                                                                                                  \n",
      " block_6_expand (Conv2D)     (None, 28, 28, 192)          6144      ['block_5_add[0][0]']         \n",
      "                                                                                                  \n",
      " block_6_expand_BN (BatchNo  (None, 28, 28, 192)          768       ['block_6_expand[0][0]']      \n",
      " rmalization)                                                                                     \n",
      "                                                                                                  \n",
      " block_6_expand_relu (ReLU)  (None, 28, 28, 192)          0         ['block_6_expand_BN[0][0]']   \n",
      "                                                                                                  \n",
      " block_6_pad (ZeroPadding2D  (None, 29, 29, 192)          0         ['block_6_expand_relu[0][0]'] \n",
      " )                                                                                                \n",
      "                                                                                                  \n",
      " block_6_depthwise (Depthwi  (None, 14, 14, 192)          1728      ['block_6_pad[0][0]']         \n",
      " seConv2D)                                                                                        \n",
      "                                                                                                  \n"
     ]
    },
    {
     "name": "stdout",
     "output_type": "stream",
     "text": [
      " block_6_depthwise_BN (Batc  (None, 14, 14, 192)          768       ['block_6_depthwise[0][0]']   \n",
      " hNormalization)                                                                                  \n",
      "                                                                                                  \n",
      " block_6_depthwise_relu (Re  (None, 14, 14, 192)          0         ['block_6_depthwise_BN[0][0]']\n",
      " LU)                                                                                              \n",
      "                                                                                                  \n",
      " block_6_project (Conv2D)    (None, 14, 14, 64)           12288     ['block_6_depthwise_relu[0][0]\n",
      "                                                                    ']                            \n",
      "                                                                                                  \n",
      " block_6_project_BN (BatchN  (None, 14, 14, 64)           256       ['block_6_project[0][0]']     \n",
      " ormalization)                                                                                    \n",
      "                                                                                                  \n",
      " block_7_expand (Conv2D)     (None, 14, 14, 384)          24576     ['block_6_project_BN[0][0]']  \n",
      "                                                                                                  \n",
      " block_7_expand_BN (BatchNo  (None, 14, 14, 384)          1536      ['block_7_expand[0][0]']      \n",
      " rmalization)                                                                                     \n",
      "                                                                                                  \n",
      " block_7_expand_relu (ReLU)  (None, 14, 14, 384)          0         ['block_7_expand_BN[0][0]']   \n",
      "                                                                                                  \n",
      " block_7_depthwise (Depthwi  (None, 14, 14, 384)          3456      ['block_7_expand_relu[0][0]'] \n",
      " seConv2D)                                                                                        \n",
      "                                                                                                  \n",
      " block_7_depthwise_BN (Batc  (None, 14, 14, 384)          1536      ['block_7_depthwise[0][0]']   \n",
      " hNormalization)                                                                                  \n",
      "                                                                                                  \n",
      " block_7_depthwise_relu (Re  (None, 14, 14, 384)          0         ['block_7_depthwise_BN[0][0]']\n",
      " LU)                                                                                              \n",
      "                                                                                                  \n",
      " block_7_project (Conv2D)    (None, 14, 14, 64)           24576     ['block_7_depthwise_relu[0][0]\n",
      "                                                                    ']                            \n",
      "                                                                                                  \n",
      " block_7_project_BN (BatchN  (None, 14, 14, 64)           256       ['block_7_project[0][0]']     \n",
      " ormalization)                                                                                    \n",
      "                                                                                                  \n",
      " block_7_add (Add)           (None, 14, 14, 64)           0         ['block_6_project_BN[0][0]',  \n",
      "                                                                     'block_7_project_BN[0][0]']  \n",
      "                                                                                                  \n",
      " block_8_expand (Conv2D)     (None, 14, 14, 384)          24576     ['block_7_add[0][0]']         \n",
      "                                                                                                  \n",
      " block_8_expand_BN (BatchNo  (None, 14, 14, 384)          1536      ['block_8_expand[0][0]']      \n",
      " rmalization)                                                                                     \n",
      "                                                                                                  \n",
      " block_8_expand_relu (ReLU)  (None, 14, 14, 384)          0         ['block_8_expand_BN[0][0]']   \n",
      "                                                                                                  \n",
      " block_8_depthwise (Depthwi  (None, 14, 14, 384)          3456      ['block_8_expand_relu[0][0]'] \n",
      " seConv2D)                                                                                        \n",
      "                                                                                                  \n",
      " block_8_depthwise_BN (Batc  (None, 14, 14, 384)          1536      ['block_8_depthwise[0][0]']   \n",
      " hNormalization)                                                                                  \n",
      "                                                                                                  \n",
      " block_8_depthwise_relu (Re  (None, 14, 14, 384)          0         ['block_8_depthwise_BN[0][0]']\n",
      " LU)                                                                                              \n",
      "                                                                                                  \n",
      " block_8_project (Conv2D)    (None, 14, 14, 64)           24576     ['block_8_depthwise_relu[0][0]\n",
      "                                                                    ']                            \n",
      "                                                                                                  \n",
      " block_8_project_BN (BatchN  (None, 14, 14, 64)           256       ['block_8_project[0][0]']     \n",
      " ormalization)                                                                                    \n",
      "                                                                                                  \n",
      " block_8_add (Add)           (None, 14, 14, 64)           0         ['block_7_add[0][0]',         \n",
      "                                                                     'block_8_project_BN[0][0]']  \n",
      "                                                                                                  \n",
      " block_9_expand (Conv2D)     (None, 14, 14, 384)          24576     ['block_8_add[0][0]']         \n",
      "                                                                                                  \n",
      " block_9_expand_BN (BatchNo  (None, 14, 14, 384)          1536      ['block_9_expand[0][0]']      \n",
      " rmalization)                                                                                     \n",
      "                                                                                                  \n",
      " block_9_expand_relu (ReLU)  (None, 14, 14, 384)          0         ['block_9_expand_BN[0][0]']   \n",
      "                                                                                                  \n",
      " block_9_depthwise (Depthwi  (None, 14, 14, 384)          3456      ['block_9_expand_relu[0][0]'] \n",
      " seConv2D)                                                                                        \n",
      "                                                                                                  \n",
      " block_9_depthwise_BN (Batc  (None, 14, 14, 384)          1536      ['block_9_depthwise[0][0]']   \n",
      " hNormalization)                                                                                  \n",
      "                                                                                                  \n",
      " block_9_depthwise_relu (Re  (None, 14, 14, 384)          0         ['block_9_depthwise_BN[0][0]']\n",
      " LU)                                                                                              \n",
      "                                                                                                  \n",
      " block_9_project (Conv2D)    (None, 14, 14, 64)           24576     ['block_9_depthwise_relu[0][0]\n",
      "                                                                    ']                            \n",
      "                                                                                                  \n",
      " block_9_project_BN (BatchN  (None, 14, 14, 64)           256       ['block_9_project[0][0]']     \n",
      " ormalization)                                                                                    \n"
     ]
    },
    {
     "name": "stdout",
     "output_type": "stream",
     "text": [
      "                                                                                                  \n",
      " block_9_add (Add)           (None, 14, 14, 64)           0         ['block_8_add[0][0]',         \n",
      "                                                                     'block_9_project_BN[0][0]']  \n",
      "                                                                                                  \n",
      " block_10_expand (Conv2D)    (None, 14, 14, 384)          24576     ['block_9_add[0][0]']         \n",
      "                                                                                                  \n",
      " block_10_expand_BN (BatchN  (None, 14, 14, 384)          1536      ['block_10_expand[0][0]']     \n",
      " ormalization)                                                                                    \n",
      "                                                                                                  \n",
      " block_10_expand_relu (ReLU  (None, 14, 14, 384)          0         ['block_10_expand_BN[0][0]']  \n",
      " )                                                                                                \n",
      "                                                                                                  \n",
      " block_10_depthwise (Depthw  (None, 14, 14, 384)          3456      ['block_10_expand_relu[0][0]']\n",
      " iseConv2D)                                                                                       \n",
      "                                                                                                  \n",
      " block_10_depthwise_BN (Bat  (None, 14, 14, 384)          1536      ['block_10_depthwise[0][0]']  \n",
      " chNormalization)                                                                                 \n",
      "                                                                                                  \n",
      " block_10_depthwise_relu (R  (None, 14, 14, 384)          0         ['block_10_depthwise_BN[0][0]'\n",
      " eLU)                                                               ]                             \n",
      "                                                                                                  \n",
      " block_10_project (Conv2D)   (None, 14, 14, 96)           36864     ['block_10_depthwise_relu[0][0\n",
      "                                                                    ]']                           \n",
      "                                                                                                  \n",
      " block_10_project_BN (Batch  (None, 14, 14, 96)           384       ['block_10_project[0][0]']    \n",
      " Normalization)                                                                                   \n",
      "                                                                                                  \n",
      " block_11_expand (Conv2D)    (None, 14, 14, 576)          55296     ['block_10_project_BN[0][0]'] \n",
      "                                                                                                  \n",
      " block_11_expand_BN (BatchN  (None, 14, 14, 576)          2304      ['block_11_expand[0][0]']     \n",
      " ormalization)                                                                                    \n",
      "                                                                                                  \n",
      " block_11_expand_relu (ReLU  (None, 14, 14, 576)          0         ['block_11_expand_BN[0][0]']  \n",
      " )                                                                                                \n",
      "                                                                                                  \n",
      " block_11_depthwise (Depthw  (None, 14, 14, 576)          5184      ['block_11_expand_relu[0][0]']\n",
      " iseConv2D)                                                                                       \n",
      "                                                                                                  \n",
      " block_11_depthwise_BN (Bat  (None, 14, 14, 576)          2304      ['block_11_depthwise[0][0]']  \n",
      " chNormalization)                                                                                 \n",
      "                                                                                                  \n",
      " block_11_depthwise_relu (R  (None, 14, 14, 576)          0         ['block_11_depthwise_BN[0][0]'\n",
      " eLU)                                                               ]                             \n",
      "                                                                                                  \n",
      " block_11_project (Conv2D)   (None, 14, 14, 96)           55296     ['block_11_depthwise_relu[0][0\n",
      "                                                                    ]']                           \n",
      "                                                                                                  \n",
      " block_11_project_BN (Batch  (None, 14, 14, 96)           384       ['block_11_project[0][0]']    \n",
      " Normalization)                                                                                   \n",
      "                                                                                                  \n",
      " block_11_add (Add)          (None, 14, 14, 96)           0         ['block_10_project_BN[0][0]', \n",
      "                                                                     'block_11_project_BN[0][0]'] \n",
      "                                                                                                  \n",
      " block_12_expand (Conv2D)    (None, 14, 14, 576)          55296     ['block_11_add[0][0]']        \n",
      "                                                                                                  \n",
      " block_12_expand_BN (BatchN  (None, 14, 14, 576)          2304      ['block_12_expand[0][0]']     \n",
      " ormalization)                                                                                    \n",
      "                                                                                                  \n",
      " block_12_expand_relu (ReLU  (None, 14, 14, 576)          0         ['block_12_expand_BN[0][0]']  \n",
      " )                                                                                                \n",
      "                                                                                                  \n",
      " block_12_depthwise (Depthw  (None, 14, 14, 576)          5184      ['block_12_expand_relu[0][0]']\n",
      " iseConv2D)                                                                                       \n",
      "                                                                                                  \n",
      " block_12_depthwise_BN (Bat  (None, 14, 14, 576)          2304      ['block_12_depthwise[0][0]']  \n",
      " chNormalization)                                                                                 \n",
      "                                                                                                  \n",
      " block_12_depthwise_relu (R  (None, 14, 14, 576)          0         ['block_12_depthwise_BN[0][0]'\n",
      " eLU)                                                               ]                             \n",
      "                                                                                                  \n",
      " block_12_project (Conv2D)   (None, 14, 14, 96)           55296     ['block_12_depthwise_relu[0][0\n",
      "                                                                    ]']                           \n",
      "                                                                                                  \n",
      " block_12_project_BN (Batch  (None, 14, 14, 96)           384       ['block_12_project[0][0]']    \n",
      " Normalization)                                                                                   \n",
      "                                                                                                  \n",
      " block_12_add (Add)          (None, 14, 14, 96)           0         ['block_11_add[0][0]',        \n",
      "                                                                     'block_12_project_BN[0][0]'] \n",
      "                                                                                                  \n",
      " block_13_expand (Conv2D)    (None, 14, 14, 576)          55296     ['block_12_add[0][0]']        \n",
      "                                                                                                  \n",
      " block_13_expand_BN (BatchN  (None, 14, 14, 576)          2304      ['block_13_expand[0][0]']     \n",
      " ormalization)                                                                                    \n"
     ]
    },
    {
     "name": "stdout",
     "output_type": "stream",
     "text": [
      "                                                                                                  \n",
      " block_13_expand_relu (ReLU  (None, 14, 14, 576)          0         ['block_13_expand_BN[0][0]']  \n",
      " )                                                                                                \n",
      "                                                                                                  \n",
      " block_13_pad (ZeroPadding2  (None, 15, 15, 576)          0         ['block_13_expand_relu[0][0]']\n",
      " D)                                                                                               \n",
      "                                                                                                  \n",
      " block_13_depthwise (Depthw  (None, 7, 7, 576)            5184      ['block_13_pad[0][0]']        \n",
      " iseConv2D)                                                                                       \n",
      "                                                                                                  \n",
      " block_13_depthwise_BN (Bat  (None, 7, 7, 576)            2304      ['block_13_depthwise[0][0]']  \n",
      " chNormalization)                                                                                 \n",
      "                                                                                                  \n",
      " block_13_depthwise_relu (R  (None, 7, 7, 576)            0         ['block_13_depthwise_BN[0][0]'\n",
      " eLU)                                                               ]                             \n",
      "                                                                                                  \n",
      " block_13_project (Conv2D)   (None, 7, 7, 160)            92160     ['block_13_depthwise_relu[0][0\n",
      "                                                                    ]']                           \n",
      "                                                                                                  \n",
      " block_13_project_BN (Batch  (None, 7, 7, 160)            640       ['block_13_project[0][0]']    \n",
      " Normalization)                                                                                   \n",
      "                                                                                                  \n",
      " block_14_expand (Conv2D)    (None, 7, 7, 960)            153600    ['block_13_project_BN[0][0]'] \n",
      "                                                                                                  \n",
      " block_14_expand_BN (BatchN  (None, 7, 7, 960)            3840      ['block_14_expand[0][0]']     \n",
      " ormalization)                                                                                    \n",
      "                                                                                                  \n",
      " block_14_expand_relu (ReLU  (None, 7, 7, 960)            0         ['block_14_expand_BN[0][0]']  \n",
      " )                                                                                                \n",
      "                                                                                                  \n",
      " block_14_depthwise (Depthw  (None, 7, 7, 960)            8640      ['block_14_expand_relu[0][0]']\n",
      " iseConv2D)                                                                                       \n",
      "                                                                                                  \n",
      " block_14_depthwise_BN (Bat  (None, 7, 7, 960)            3840      ['block_14_depthwise[0][0]']  \n",
      " chNormalization)                                                                                 \n",
      "                                                                                                  \n",
      " block_14_depthwise_relu (R  (None, 7, 7, 960)            0         ['block_14_depthwise_BN[0][0]'\n",
      " eLU)                                                               ]                             \n",
      "                                                                                                  \n",
      " block_14_project (Conv2D)   (None, 7, 7, 160)            153600    ['block_14_depthwise_relu[0][0\n",
      "                                                                    ]']                           \n",
      "                                                                                                  \n",
      " block_14_project_BN (Batch  (None, 7, 7, 160)            640       ['block_14_project[0][0]']    \n",
      " Normalization)                                                                                   \n",
      "                                                                                                  \n",
      " block_14_add (Add)          (None, 7, 7, 160)            0         ['block_13_project_BN[0][0]', \n",
      "                                                                     'block_14_project_BN[0][0]'] \n",
      "                                                                                                  \n",
      " block_15_expand (Conv2D)    (None, 7, 7, 960)            153600    ['block_14_add[0][0]']        \n",
      "                                                                                                  \n",
      " block_15_expand_BN (BatchN  (None, 7, 7, 960)            3840      ['block_15_expand[0][0]']     \n",
      " ormalization)                                                                                    \n",
      "                                                                                                  \n",
      " block_15_expand_relu (ReLU  (None, 7, 7, 960)            0         ['block_15_expand_BN[0][0]']  \n",
      " )                                                                                                \n",
      "                                                                                                  \n",
      " block_15_depthwise (Depthw  (None, 7, 7, 960)            8640      ['block_15_expand_relu[0][0]']\n",
      " iseConv2D)                                                                                       \n",
      "                                                                                                  \n",
      " block_15_depthwise_BN (Bat  (None, 7, 7, 960)            3840      ['block_15_depthwise[0][0]']  \n",
      " chNormalization)                                                                                 \n",
      "                                                                                                  \n",
      " block_15_depthwise_relu (R  (None, 7, 7, 960)            0         ['block_15_depthwise_BN[0][0]'\n",
      " eLU)                                                               ]                             \n",
      "                                                                                                  \n",
      " block_15_project (Conv2D)   (None, 7, 7, 160)            153600    ['block_15_depthwise_relu[0][0\n",
      "                                                                    ]']                           \n",
      "                                                                                                  \n",
      " block_15_project_BN (Batch  (None, 7, 7, 160)            640       ['block_15_project[0][0]']    \n",
      " Normalization)                                                                                   \n",
      "                                                                                                  \n",
      " block_15_add (Add)          (None, 7, 7, 160)            0         ['block_14_add[0][0]',        \n",
      "                                                                     'block_15_project_BN[0][0]'] \n",
      "                                                                                                  \n",
      " block_16_expand (Conv2D)    (None, 7, 7, 960)            153600    ['block_15_add[0][0]']        \n",
      "                                                                                                  \n",
      " block_16_expand_BN (BatchN  (None, 7, 7, 960)            3840      ['block_16_expand[0][0]']     \n",
      " ormalization)                                                                                    \n",
      "                                                                                                  \n",
      " block_16_expand_relu (ReLU  (None, 7, 7, 960)            0         ['block_16_expand_BN[0][0]']  \n",
      " )                                                                                                \n",
      "                                                                                                  \n",
      " block_16_depthwise (Depthw  (None, 7, 7, 960)            8640      ['block_16_expand_relu[0][0]']\n"
     ]
    },
    {
     "name": "stdout",
     "output_type": "stream",
     "text": [
      " iseConv2D)                                                                                       \n",
      "                                                                                                  \n",
      " block_16_depthwise_BN (Bat  (None, 7, 7, 960)            3840      ['block_16_depthwise[0][0]']  \n",
      " chNormalization)                                                                                 \n",
      "                                                                                                  \n",
      " block_16_depthwise_relu (R  (None, 7, 7, 960)            0         ['block_16_depthwise_BN[0][0]'\n",
      " eLU)                                                               ]                             \n",
      "                                                                                                  \n",
      " block_16_project (Conv2D)   (None, 7, 7, 320)            307200    ['block_16_depthwise_relu[0][0\n",
      "                                                                    ]']                           \n",
      "                                                                                                  \n",
      " block_16_project_BN (Batch  (None, 7, 7, 320)            1280      ['block_16_project[0][0]']    \n",
      " Normalization)                                                                                   \n",
      "                                                                                                  \n",
      " Conv_1 (Conv2D)             (None, 7, 7, 1280)           409600    ['block_16_project_BN[0][0]'] \n",
      "                                                                                                  \n",
      " Conv_1_bn (BatchNormalizat  (None, 7, 7, 1280)           5120      ['Conv_1[0][0]']              \n",
      " ion)                                                                                             \n",
      "                                                                                                  \n",
      " out_relu (ReLU)             (None, 7, 7, 1280)           0         ['Conv_1_bn[0][0]']           \n",
      "                                                                                                  \n",
      " global_average_pooling2d (  (None, 1280)                 0         ['out_relu[0][0]']            \n",
      " GlobalAveragePooling2D)                                                                          \n",
      "                                                                                                  \n",
      " dropout (Dropout)           (None, 1280)                 0         ['global_average_pooling2d[0][\n",
      "                                                                    0]']                          \n",
      "                                                                                                  \n",
      " dense (Dense)               (None, 8)                    10248     ['dropout[0][0]']             \n",
      "                                                                                                  \n",
      "==================================================================================================\n",
      "Total params: 2268232 (8.65 MB)\n",
      "Trainable params: 2234120 (8.52 MB)\n",
      "Non-trainable params: 34112 (133.25 KB)\n",
      "__________________________________________________________________________________________________\n"
     ]
    }
   ],
   "source": [
    "# Adding Top Layers.\n",
    "model1 = mobilenet.output\n",
    "model1 = tf.keras.layers.GlobalAveragePooling2D()(model1)\n",
    "model1 = tf.keras.layers.Dropout(0.5)(model1)\n",
    "model1 = tf.keras.layers.Dense(8, activation = 'softmax')(model1)\n",
    "model1 = tf.keras.models.Model(inputs = mobilenet.input, outputs = model1)\n",
    "\n",
    "# Model summary.\n",
    "model1.summary()"
   ]
  },
  {
   "cell_type": "code",
   "execution_count": 16,
   "metadata": {
    "id": "9yf66GhjSNcQ"
   },
   "outputs": [],
   "source": [
    "# Compiling Model\n",
    "# model1.compile(loss = 'categorical_crossentropy', optimizer ='sgdm', metrics=['accuracy'])\n",
    "# # Callbacks.\n",
    "# from tensorflow.keras.callbacks import EarlyStopping, ReduceLROnPlateau, TensorBoard, ModelCheckpoint\n",
    "# tensorboard = TensorBoard(log_dir = 'logs')\n",
    "# checkpoint = ModelCheckpoint(\"effnet1.h5\",monitor=\"val_accuracy\",save_best_only=True,mode=\"auto\",verbose=1)\n",
    "# reduce_lr = ReduceLROnPlateau(monitor = 'val_accuracy', factor = 0.3, patience = 5, min_delta = 0.0001,mode='auto',verbose=VERBOSE)"
   ]
  },
  {
   "cell_type": "code",
   "execution_count": 17,
   "metadata": {
    "id": "pG8FBqkPRw2v"
   },
   "outputs": [],
   "source": [
    "# Compiling Model\n",
    "model1.compile(loss = 'categorical_crossentropy', optimizer ='adam', metrics=['accuracy'])\n",
    "# Callbacks.\n",
    "from tensorflow.keras.callbacks import EarlyStopping, ReduceLROnPlateau, TensorBoard, ModelCheckpoint\n",
    "tensorboard = TensorBoard(log_dir = 'logs')\n",
    "checkpoint = ModelCheckpoint(\"mobilenet.h5\",monitor=\"val_accuracy\",save_best_only=True,mode=\"auto\",verbose=1)\n",
    "reduce_lr = ReduceLROnPlateau(monitor = 'val_accuracy', factor = 0.3, patience = 5, min_delta = 0.0001,mode='auto',verbose=VERBOSE)"
   ]
  },
  {
   "cell_type": "code",
   "execution_count": 18,
   "metadata": {
    "colab": {
     "base_uri": "https://localhost:8080/"
    },
    "executionInfo": {
     "elapsed": 4173906,
     "status": "ok",
     "timestamp": 1641388489398,
     "user": {
      "displayName": "Pramod M",
      "photoUrl": "https://lh3.googleusercontent.com/a-/AOh14GhACZYYVJf7SJ3fexsWl8-NZ0E9GwdA3AYfAwMLdQU=s64",
      "userId": "13057132913855779854"
     },
     "user_tz": -330
    },
    "id": "iL8Vldw1SNcR",
    "outputId": "70f0be14-c5bb-4fb7-87d0-c096e0b00b44"
   },
   "outputs": [
    {
     "name": "stdout",
     "output_type": "stream",
     "text": [
      "Epoch 1/50\n",
      "196/196 [==============================] - ETA: 0s - loss: 1.0015 - accuracy: 0.6460\n",
      "Epoch 1: val_accuracy improved from -inf to 0.52240, saving model to mobilenet.h5\n"
     ]
    },
    {
     "name": "stderr",
     "output_type": "stream",
     "text": [
      "C:\\Users\\jentl\\AppData\\Local\\anaconda3\\lib\\site-packages\\keras\\src\\engine\\training.py:3000: UserWarning: You are saving your model as an HDF5 file via `model.save()`. This file format is considered legacy. We recommend using instead the native Keras format, e.g. `model.save('my_model.keras')`.\n",
      "  saving_api.save_model(\n"
     ]
    },
    {
     "name": "stdout",
     "output_type": "stream",
     "text": [
      "196/196 [==============================] - 1862s 9s/step - loss: 1.0015 - accuracy: 0.6460 - val_loss: 7.3981 - val_accuracy: 0.5224 - lr: 0.0010\n",
      "Epoch 2/50\n",
      "196/196 [==============================] - ETA: 0s - loss: 0.7712 - accuracy: 0.7261\n",
      "Epoch 2: val_accuracy improved from 0.52240 to 0.53345, saving model to mobilenet.h5\n",
      "196/196 [==============================] - 1805s 9s/step - loss: 0.7712 - accuracy: 0.7261 - val_loss: 8.4563 - val_accuracy: 0.5334 - lr: 0.0010\n",
      "Epoch 3/50\n",
      "196/196 [==============================] - ETA: 0s - loss: 0.6736 - accuracy: 0.7588\n",
      "Epoch 3: val_accuracy improved from 0.53345 to 0.55320, saving model to mobilenet.h5\n",
      "196/196 [==============================] - 1794s 9s/step - loss: 0.6736 - accuracy: 0.7588 - val_loss: 8.3987 - val_accuracy: 0.5532 - lr: 0.0010\n",
      "Epoch 4/50\n",
      "196/196 [==============================] - ETA: 0s - loss: 0.5823 - accuracy: 0.7894\n",
      "Epoch 4: val_accuracy did not improve from 0.55320\n",
      "196/196 [==============================] - 1808s 9s/step - loss: 0.5823 - accuracy: 0.7894 - val_loss: 9.4009 - val_accuracy: 0.5184 - lr: 0.0010\n",
      "Epoch 5/50\n",
      "196/196 [==============================] - ETA: 0s - loss: 0.5046 - accuracy: 0.8206\n",
      "Epoch 5: val_accuracy did not improve from 0.55320\n",
      "196/196 [==============================] - 1810s 9s/step - loss: 0.5046 - accuracy: 0.8206 - val_loss: 7.9033 - val_accuracy: 0.4956 - lr: 0.0010\n",
      "Epoch 6/50\n",
      "196/196 [==============================] - ETA: 0s - loss: 0.4358 - accuracy: 0.8417\n",
      "Epoch 6: val_accuracy did not improve from 0.55320\n",
      "196/196 [==============================] - 1819s 9s/step - loss: 0.4358 - accuracy: 0.8417 - val_loss: 11.6119 - val_accuracy: 0.0900 - lr: 0.0010\n",
      "Epoch 7/50\n",
      "196/196 [==============================] - ETA: 0s - loss: 0.3882 - accuracy: 0.8609\n",
      "Epoch 7: val_accuracy did not improve from 0.55320\n",
      "196/196 [==============================] - 1818s 9s/step - loss: 0.3882 - accuracy: 0.8609 - val_loss: 7.1582 - val_accuracy: 0.4973 - lr: 0.0010\n",
      "Epoch 8/50\n",
      "196/196 [==============================] - ETA: 0s - loss: 0.3351 - accuracy: 0.8780\n",
      "Epoch 8: val_accuracy did not improve from 0.55320\n",
      "\n",
      "Epoch 8: ReduceLROnPlateau reducing learning rate to 0.0003000000142492354.\n",
      "196/196 [==============================] - 1822s 9s/step - loss: 0.3351 - accuracy: 0.8780 - val_loss: 4.9202 - val_accuracy: 0.5196 - lr: 0.0010\n",
      "Epoch 9/50\n",
      "196/196 [==============================] - ETA: 0s - loss: 0.1327 - accuracy: 0.9534\n",
      "Epoch 9: val_accuracy did not improve from 0.55320\n",
      "196/196 [==============================] - 1826s 9s/step - loss: 0.1327 - accuracy: 0.9534 - val_loss: 4.0993 - val_accuracy: 0.5434 - lr: 3.0000e-04\n",
      "Epoch 10/50\n",
      "196/196 [==============================] - ETA: 0s - loss: 0.0466 - accuracy: 0.9856\n",
      "Epoch 10: val_accuracy improved from 0.55320 to 0.60990, saving model to mobilenet.h5\n",
      "196/196 [==============================] - 1829s 9s/step - loss: 0.0466 - accuracy: 0.9856 - val_loss: 2.2640 - val_accuracy: 0.6099 - lr: 3.0000e-04\n",
      "Epoch 11/50\n",
      "196/196 [==============================] - ETA: 0s - loss: 0.0288 - accuracy: 0.9906\n",
      "Epoch 11: val_accuracy improved from 0.60990 to 0.64196, saving model to mobilenet.h5\n",
      "196/196 [==============================] - 1830s 9s/step - loss: 0.0288 - accuracy: 0.9906 - val_loss: 1.8966 - val_accuracy: 0.6420 - lr: 3.0000e-04\n",
      "Epoch 12/50\n",
      "196/196 [==============================] - ETA: 0s - loss: 0.0288 - accuracy: 0.9903\n",
      "Epoch 12: val_accuracy improved from 0.64196 to 0.66851, saving model to mobilenet.h5\n",
      "196/196 [==============================] - 1838s 9s/step - loss: 0.0288 - accuracy: 0.9903 - val_loss: 2.6797 - val_accuracy: 0.6685 - lr: 3.0000e-04\n",
      "Epoch 13/50\n",
      "196/196 [==============================] - ETA: 0s - loss: 0.0356 - accuracy: 0.9874\n",
      "Epoch 13: val_accuracy improved from 0.66851 to 0.70142, saving model to mobilenet.h5\n",
      "196/196 [==============================] - 1834s 9s/step - loss: 0.0356 - accuracy: 0.9874 - val_loss: 2.2229 - val_accuracy: 0.7014 - lr: 3.0000e-04\n",
      "Epoch 14/50\n",
      "196/196 [==============================] - ETA: 0s - loss: 0.0325 - accuracy: 0.9889\n",
      "Epoch 14: val_accuracy did not improve from 0.70142\n",
      "196/196 [==============================] - 1837s 9s/step - loss: 0.0325 - accuracy: 0.9889 - val_loss: 2.3054 - val_accuracy: 0.6861 - lr: 3.0000e-04\n",
      "Epoch 15/50\n",
      "196/196 [==============================] - ETA: 0s - loss: 0.0275 - accuracy: 0.9902\n",
      "Epoch 15: val_accuracy did not improve from 0.70142\n",
      "196/196 [==============================] - 1835s 9s/step - loss: 0.0275 - accuracy: 0.9902 - val_loss: 2.2759 - val_accuracy: 0.6834 - lr: 3.0000e-04\n",
      "Epoch 16/50\n",
      "196/196 [==============================] - ETA: 0s - loss: 0.0319 - accuracy: 0.9895\n",
      "Epoch 16: val_accuracy did not improve from 0.70142\n",
      "196/196 [==============================] - 1839s 9s/step - loss: 0.0319 - accuracy: 0.9895 - val_loss: 2.2642 - val_accuracy: 0.6810 - lr: 3.0000e-04\n",
      "Epoch 17/50\n",
      "196/196 [==============================] - ETA: 0s - loss: 0.0409 - accuracy: 0.9862\n",
      "Epoch 17: val_accuracy did not improve from 0.70142\n",
      "196/196 [==============================] - 1835s 9s/step - loss: 0.0409 - accuracy: 0.9862 - val_loss: 2.4988 - val_accuracy: 0.6199 - lr: 3.0000e-04\n",
      "Epoch 18/50\n",
      "196/196 [==============================] - ETA: 0s - loss: 0.0237 - accuracy: 0.9916\n",
      "Epoch 18: val_accuracy did not improve from 0.70142\n",
      "\n",
      "Epoch 18: ReduceLROnPlateau reducing learning rate to 9.000000427477062e-05.\n",
      "196/196 [==============================] - 1842s 9s/step - loss: 0.0237 - accuracy: 0.9916 - val_loss: 2.0096 - val_accuracy: 0.6976 - lr: 3.0000e-04\n",
      "Epoch 19/50\n",
      "196/196 [==============================] - ETA: 0s - loss: 0.0092 - accuracy: 0.9970\n",
      "Epoch 19: val_accuracy improved from 0.70142 to 0.71416, saving model to mobilenet.h5\n",
      "196/196 [==============================] - 1837s 9s/step - loss: 0.0092 - accuracy: 0.9970 - val_loss: 1.8674 - val_accuracy: 0.7142 - lr: 9.0000e-05\n",
      "Epoch 20/50\n",
      "196/196 [==============================] - ETA: 0s - loss: 0.0045 - accuracy: 0.9987\n",
      "Epoch 20: val_accuracy improved from 0.71416 to 0.72138, saving model to mobilenet.h5\n",
      "196/196 [==============================] - 1845s 9s/step - loss: 0.0045 - accuracy: 0.9987 - val_loss: 1.8594 - val_accuracy: 0.7214 - lr: 9.0000e-05\n",
      "Epoch 21/50\n",
      "196/196 [==============================] - ETA: 0s - loss: 0.0035 - accuracy: 0.9991\n",
      "Epoch 21: val_accuracy improved from 0.72138 to 0.72712, saving model to mobilenet.h5\n",
      "196/196 [==============================] - 1860s 9s/step - loss: 0.0035 - accuracy: 0.9991 - val_loss: 1.8778 - val_accuracy: 0.7271 - lr: 9.0000e-05\n",
      "Epoch 22/50\n",
      "196/196 [==============================] - ETA: 0s - loss: 0.0038 - accuracy: 0.9990\n",
      "Epoch 22: val_accuracy did not improve from 0.72712\n",
      "196/196 [==============================] - 1852s 9s/step - loss: 0.0038 - accuracy: 0.9990 - val_loss: 1.8812 - val_accuracy: 0.7265 - lr: 9.0000e-05\n",
      "Epoch 23/50\n",
      "196/196 [==============================] - ETA: 0s - loss: 0.0027 - accuracy: 0.9994\n",
      "Epoch 23: val_accuracy improved from 0.72712 to 0.73200, saving model to mobilenet.h5\n",
      "196/196 [==============================] - 1855s 9s/step - loss: 0.0027 - accuracy: 0.9994 - val_loss: 1.8711 - val_accuracy: 0.7320 - lr: 9.0000e-05\n",
      "Epoch 24/50\n",
      "196/196 [==============================] - ETA: 0s - loss: 0.0019 - accuracy: 0.9996\n",
      "Epoch 24: val_accuracy improved from 0.73200 to 0.73561, saving model to mobilenet.h5\n",
      "196/196 [==============================] - 1857s 9s/step - loss: 0.0019 - accuracy: 0.9996 - val_loss: 1.9558 - val_accuracy: 0.7356 - lr: 9.0000e-05\n",
      "Epoch 25/50\n",
      "196/196 [==============================] - ETA: 0s - loss: 0.0015 - accuracy: 0.9997\n",
      "Epoch 25: val_accuracy did not improve from 0.73561\n",
      "196/196 [==============================] - 1858s 9s/step - loss: 0.0015 - accuracy: 0.9997 - val_loss: 2.0181 - val_accuracy: 0.7316 - lr: 9.0000e-05\n",
      "Epoch 26/50\n",
      "196/196 [==============================] - ETA: 0s - loss: 0.0022 - accuracy: 0.9996\n",
      "Epoch 26: val_accuracy did not improve from 0.73561\n",
      "196/196 [==============================] - 1866s 10s/step - loss: 0.0022 - accuracy: 0.9996 - val_loss: 1.9607 - val_accuracy: 0.7322 - lr: 9.0000e-05\n",
      "Epoch 27/50\n"
     ]
    },
    {
     "name": "stdout",
     "output_type": "stream",
     "text": [
      "196/196 [==============================] - ETA: 0s - loss: 0.0026 - accuracy: 0.9992\n",
      "Epoch 27: val_accuracy did not improve from 0.73561\n",
      "196/196 [==============================] - 1862s 10s/step - loss: 0.0026 - accuracy: 0.9992 - val_loss: 2.0896 - val_accuracy: 0.7299 - lr: 9.0000e-05\n",
      "Epoch 28/50\n",
      "196/196 [==============================] - ETA: 0s - loss: 0.0018 - accuracy: 0.9995\n",
      "Epoch 28: val_accuracy did not improve from 0.73561\n",
      "196/196 [==============================] - 1863s 10s/step - loss: 0.0018 - accuracy: 0.9995 - val_loss: 1.9919 - val_accuracy: 0.7348 - lr: 9.0000e-05\n",
      "Epoch 29/50\n",
      "196/196 [==============================] - ETA: 0s - loss: 0.0021 - accuracy: 0.9996\n",
      "Epoch 29: val_accuracy did not improve from 0.73561\n",
      "\n",
      "Epoch 29: ReduceLROnPlateau reducing learning rate to 2.700000040931627e-05.\n",
      "196/196 [==============================] - 1861s 9s/step - loss: 0.0021 - accuracy: 0.9996 - val_loss: 2.0359 - val_accuracy: 0.7322 - lr: 9.0000e-05\n",
      "Epoch 30/50\n",
      "196/196 [==============================] - ETA: 0s - loss: 0.0014 - accuracy: 0.9995\n",
      "Epoch 30: val_accuracy did not improve from 0.73561\n",
      "196/196 [==============================] - 1864s 10s/step - loss: 0.0014 - accuracy: 0.9995 - val_loss: 2.0329 - val_accuracy: 0.7326 - lr: 2.7000e-05\n",
      "Epoch 31/50\n",
      "196/196 [==============================] - ETA: 0s - loss: 0.0011 - accuracy: 0.9997\n",
      "Epoch 31: val_accuracy did not improve from 0.73561\n",
      "196/196 [==============================] - 1862s 10s/step - loss: 0.0011 - accuracy: 0.9997 - val_loss: 2.0465 - val_accuracy: 0.7341 - lr: 2.7000e-05\n",
      "Epoch 32/50\n",
      "196/196 [==============================] - ETA: 0s - loss: 0.0012 - accuracy: 0.9998\n",
      "Epoch 32: val_accuracy did not improve from 0.73561\n",
      "196/196 [==============================] - 1868s 10s/step - loss: 0.0012 - accuracy: 0.9998 - val_loss: 2.1126 - val_accuracy: 0.7316 - lr: 2.7000e-05\n",
      "Epoch 33/50\n",
      "196/196 [==============================] - ETA: 0s - loss: 0.0013 - accuracy: 0.9995\n",
      "Epoch 33: val_accuracy did not improve from 0.73561\n",
      "196/196 [==============================] - 1870s 10s/step - loss: 0.0013 - accuracy: 0.9995 - val_loss: 2.1064 - val_accuracy: 0.7316 - lr: 2.7000e-05\n",
      "Epoch 34/50\n",
      "196/196 [==============================] - ETA: 0s - loss: 0.0012 - accuracy: 0.9997\n",
      "Epoch 34: val_accuracy did not improve from 0.73561\n",
      "\n",
      "Epoch 34: ReduceLROnPlateau reducing learning rate to 8.100000013655517e-06.\n",
      "196/196 [==============================] - 1871s 10s/step - loss: 0.0012 - accuracy: 0.9997 - val_loss: 2.1421 - val_accuracy: 0.7356 - lr: 2.7000e-05\n",
      "Epoch 35/50\n",
      "196/196 [==============================] - ETA: 0s - loss: 0.0013 - accuracy: 0.9998\n",
      "Epoch 35: val_accuracy improved from 0.73561 to 0.73710, saving model to mobilenet.h5\n",
      "196/196 [==============================] - 1867s 10s/step - loss: 0.0013 - accuracy: 0.9998 - val_loss: 2.1316 - val_accuracy: 0.7371 - lr: 8.1000e-06\n",
      "Epoch 36/50\n",
      "196/196 [==============================] - ETA: 0s - loss: 0.0017 - accuracy: 0.9994\n",
      "Epoch 36: val_accuracy did not improve from 0.73710\n",
      "196/196 [==============================] - 1879s 10s/step - loss: 0.0017 - accuracy: 0.9994 - val_loss: 2.1333 - val_accuracy: 0.7362 - lr: 8.1000e-06\n",
      "Epoch 37/50\n",
      "196/196 [==============================] - ETA: 0s - loss: 6.4128e-04 - accuracy: 0.9999\n",
      "Epoch 37: val_accuracy did not improve from 0.73710\n",
      "196/196 [==============================] - 1896s 10s/step - loss: 6.4128e-04 - accuracy: 0.9999 - val_loss: 2.1401 - val_accuracy: 0.7360 - lr: 8.1000e-06\n",
      "Epoch 38/50\n",
      "196/196 [==============================] - ETA: 0s - loss: 6.1279e-04 - accuracy: 0.9998\n",
      "Epoch 38: val_accuracy did not improve from 0.73710\n",
      "196/196 [==============================] - 1881s 10s/step - loss: 6.1279e-04 - accuracy: 0.9998 - val_loss: 2.1374 - val_accuracy: 0.7371 - lr: 8.1000e-06\n",
      "Epoch 39/50\n",
      "196/196 [==============================] - ETA: 0s - loss: 6.6901e-04 - accuracy: 0.9998\n",
      "Epoch 39: val_accuracy did not improve from 0.73710\n",
      "196/196 [==============================] - 1886s 10s/step - loss: 6.6901e-04 - accuracy: 0.9998 - val_loss: 2.1541 - val_accuracy: 0.7362 - lr: 8.1000e-06\n",
      "Epoch 40/50\n",
      "196/196 [==============================] - ETA: 0s - loss: 5.9085e-04 - accuracy: 0.9999\n",
      "Epoch 40: val_accuracy improved from 0.73710 to 0.73774, saving model to mobilenet.h5\n",
      "196/196 [==============================] - 1884s 10s/step - loss: 5.9085e-04 - accuracy: 0.9999 - val_loss: 2.1386 - val_accuracy: 0.7377 - lr: 8.1000e-06\n",
      "Epoch 41/50\n",
      "196/196 [==============================] - ETA: 0s - loss: 4.5186e-04 - accuracy: 0.9999\n",
      "Epoch 41: val_accuracy did not improve from 0.73774\n",
      "196/196 [==============================] - 1900s 10s/step - loss: 4.5186e-04 - accuracy: 0.9999 - val_loss: 2.1520 - val_accuracy: 0.7373 - lr: 8.1000e-06\n",
      "Epoch 42/50\n",
      "196/196 [==============================] - ETA: 0s - loss: 7.6802e-04 - accuracy: 0.9996\n",
      "Epoch 42: val_accuracy did not improve from 0.73774\n",
      "196/196 [==============================] - 1903s 10s/step - loss: 7.6802e-04 - accuracy: 0.9996 - val_loss: 2.1582 - val_accuracy: 0.7377 - lr: 8.1000e-06\n",
      "Epoch 43/50\n",
      "196/196 [==============================] - ETA: 0s - loss: 5.7620e-04 - accuracy: 0.9998\n",
      "Epoch 43: val_accuracy did not improve from 0.73774\n",
      "196/196 [==============================] - 1901s 10s/step - loss: 5.7620e-04 - accuracy: 0.9998 - val_loss: 2.1551 - val_accuracy: 0.7362 - lr: 8.1000e-06\n",
      "Epoch 44/50\n",
      "196/196 [==============================] - ETA: 0s - loss: 5.1947e-04 - accuracy: 0.9998\n",
      "Epoch 44: val_accuracy did not improve from 0.73774\n",
      "196/196 [==============================] - 1917s 10s/step - loss: 5.1947e-04 - accuracy: 0.9998 - val_loss: 2.1662 - val_accuracy: 0.7356 - lr: 8.1000e-06\n",
      "Epoch 45/50\n",
      "196/196 [==============================] - ETA: 0s - loss: 5.1041e-04 - accuracy: 0.9998\n",
      "Epoch 45: val_accuracy did not improve from 0.73774\n",
      "\n",
      "Epoch 45: ReduceLROnPlateau reducing learning rate to 2.429999949526973e-06.\n",
      "196/196 [==============================] - 1916s 10s/step - loss: 5.1041e-04 - accuracy: 0.9998 - val_loss: 2.1635 - val_accuracy: 0.7346 - lr: 8.1000e-06\n",
      "Epoch 46/50\n",
      "196/196 [==============================] - ETA: 0s - loss: 3.7223e-04 - accuracy: 0.9999\n",
      "Epoch 46: val_accuracy did not improve from 0.73774\n",
      "196/196 [==============================] - 1911s 10s/step - loss: 3.7223e-04 - accuracy: 0.9999 - val_loss: 2.1716 - val_accuracy: 0.7356 - lr: 2.4300e-06\n",
      "Epoch 47/50\n",
      "196/196 [==============================] - ETA: 0s - loss: 7.5174e-04 - accuracy: 0.9997\n",
      "Epoch 47: val_accuracy did not improve from 0.73774\n",
      "196/196 [==============================] - 1908s 10s/step - loss: 7.5174e-04 - accuracy: 0.9997 - val_loss: 2.1877 - val_accuracy: 0.7358 - lr: 2.4300e-06\n",
      "Epoch 48/50\n",
      "196/196 [==============================] - ETA: 0s - loss: 4.5658e-04 - accuracy: 0.9998\n",
      "Epoch 48: val_accuracy did not improve from 0.73774\n",
      "196/196 [==============================] - 1916s 10s/step - loss: 4.5658e-04 - accuracy: 0.9998 - val_loss: 2.1890 - val_accuracy: 0.7360 - lr: 2.4300e-06\n",
      "Epoch 49/50\n",
      "196/196 [==============================] - ETA: 0s - loss: 8.0948e-04 - accuracy: 0.9998\n",
      "Epoch 49: val_accuracy did not improve from 0.73774\n",
      "196/196 [==============================] - 1903s 10s/step - loss: 8.0948e-04 - accuracy: 0.9998 - val_loss: 2.1896 - val_accuracy: 0.7371 - lr: 2.4300e-06\n",
      "Epoch 50/50\n",
      "196/196 [==============================] - ETA: 0s - loss: 4.4995e-04 - accuracy: 0.9999\n",
      "Epoch 50: val_accuracy did not improve from 0.73774\n",
      "\n",
      "Epoch 50: ReduceLROnPlateau reducing learning rate to 7.289999985005124e-07.\n",
      "196/196 [==============================] - 1895s 10s/step - loss: 4.4995e-04 - accuracy: 0.9999 - val_loss: 2.1969 - val_accuracy: 0.7367 - lr: 2.4300e-06\n"
     ]
    }
   ],
   "source": [
    "# Fitting the model\n",
    "history1 = model1.fit(x_train, y_train, validation_data=(x_val,y_val), epochs = 50, verbose =VERBOSE, batch_size=BATCH_SIZE, callbacks=[tensorboard,checkpoint,reduce_lr])"
   ]
  },
  {
   "cell_type": "code",
   "execution_count": 19,
   "metadata": {
    "colab": {
     "base_uri": "https://localhost:8080/",
     "height": 458
    },
    "executionInfo": {
     "elapsed": 11,
     "status": "ok",
     "timestamp": 1641388489399,
     "user": {
      "displayName": "Pramod M",
      "photoUrl": "https://lh3.googleusercontent.com/a-/AOh14GhACZYYVJf7SJ3fexsWl8-NZ0E9GwdA3AYfAwMLdQU=s64",
      "userId": "13057132913855779854"
     },
     "user_tz": -330
    },
    "id": "G35iev0FSNcS",
    "outputId": "6b7c6b9c-d5c7-4867-da23-b2e6b2c3b186"
   },
   "outputs": [
    {
     "data": {
      "image/png": "[encoded data removed]",
      "text/plain": [
       "<Figure size 1400x700 with 2 Axes>"
      ]
     },
     "metadata": {},
     "output_type": "display_data"
    }
   ],
   "source": [
    "epochs = [i for i in range(50)]\n",
    "fig, ax = plt.subplots(1,2)\n",
    "train_acc = history1.history['accuracy']\n",
    "train_loss = history1.history['loss']\n",
    "val_acc = history1.history['val_accuracy']\n",
    "val_loss = history1.history['val_loss']\n",
    "fig.set_size_inches(14, 7)\n",
    "\n",
    "ax[0].plot(epochs, train_acc, 'go-', label = 'Training Accuracy')\n",
    "ax[0].plot(epochs, val_acc, 'ro-', label = 'Validation Accuracy')\n",
    "ax[0].set_title('Training & Validation Accuracy')\n",
    "ax[0].legend()\n",
    "ax[0].set_xlabel('Epochs')\n",
    "ax[0].set_ylabel('Accuracy')\n",
    "\n",
    "ax[1].plot(epochs, train_loss, 'g-o', label ='Training Loss')\n",
    "ax[1].plot(epochs, val_loss, 'r-o', label = 'Validation Loss')\n",
    "ax[1].set_title('Testing Accuracy & Loss')\n",
    "ax[1].legend()\n",
    "ax[1].set_xlabel('Epochs')\n",
    "ax[1].set_ylabel('Training & Validation Loss')\n",
    "plt.show()"
   ]
  },
  {
   "cell_type": "code",
   "execution_count": 20,
   "metadata": {
    "colab": {
     "base_uri": "https://localhost:8080/"
    },
    "executionInfo": {
     "elapsed": 21039,
     "status": "ok",
     "timestamp": 1641388510432,
     "user": {
      "displayName": "Pramod M",
      "photoUrl": "https://lh3.googleusercontent.com/a-/AOh14GhACZYYVJf7SJ3fexsWl8-NZ0E9GwdA3AYfAwMLdQU=s64",
      "userId": "13057132913855779854"
     },
     "user_tz": -330
    },
    "id": "JzPYPJQVSNcg",
    "outputId": "935a3d45-b49a-48c8-ea8d-659e3c603bed"
   },
   "outputs": [
    {
     "name": "stdout",
     "output_type": "stream",
     "text": [
      "248/248 [==============================] - 189s 763ms/step - loss: 2.1669 - accuracy: 0.7076\n",
      "Testing Loss : 2.1669304370880127\n",
      "Testing Accuracy : 70.75912356376648 %\n"
     ]
    }
   ],
   "source": [
    "# Evaluating Model.\n",
    "result1=model1.evaluate(x_test, y_test)\n",
    "print(\"Testing Loss :\", result1[0])\n",
    "print(\"Testing Accuracy :\", result1[1]*100, \"%\")"
   ]
  },
  {
   "cell_type": "code",
   "execution_count": 21,
   "metadata": {
    "id": "anXz4qPSSNco"
   },
   "outputs": [
    {
     "name": "stdout",
     "output_type": "stream",
     "text": [
      "248/248 [==============================] - 190s 762ms/step\n"
     ]
    }
   ],
   "source": [
    "predictions1 = model1.predict(x_test)\n",
    "predictions1 = np.argmax(predictions1, axis = 1)\n",
    "y_test_edit = np.argmax(y_test , axis = 1)"
   ]
  },
  {
   "cell_type": "code",
   "execution_count": 22,
   "metadata": {
    "colab": {
     "base_uri": "https://localhost:8080/"
    },
    "executionInfo": {
     "elapsed": 28,
     "status": "ok",
     "timestamp": 1641388524803,
     "user": {
      "displayName": "Pramod M",
      "photoUrl": "https://lh3.googleusercontent.com/a-/AOh14GhACZYYVJf7SJ3fexsWl8-NZ0E9GwdA3AYfAwMLdQU=s64",
      "userId": "13057132913855779854"
     },
     "user_tz": -330
    },
    "id": "0cxcGrq-SNcp",
    "outputId": "98bcb5cb-e535-47b7-d559-f3743acd2e8f"
   },
   "outputs": [
    {
     "name": "stdout",
     "output_type": "stream",
     "text": [
      "              precision    recall  f1-score   support\n",
      "\n",
      "           0       0.50      0.44      0.47       291\n",
      "           1       0.74      0.82      0.77      1039\n",
      "           2       0.62      0.51      0.56       865\n",
      "           3       0.57      0.40      0.47        62\n",
      "           4       0.50      0.61      0.55      1397\n",
      "           5       0.83      0.80      0.81      3967\n",
      "           6       0.51      0.39      0.44       206\n",
      "           7       0.86      0.68      0.76        90\n",
      "\n",
      "    accuracy                           0.71      7917\n",
      "   macro avg       0.64      0.58      0.60      7917\n",
      "weighted avg       0.71      0.71      0.71      7917\n",
      "\n"
     ]
    }
   ],
   "source": [
    "# Classification report.\n",
    "from sklearn.metrics import classification_report\n",
    "cf_report = sklearn.metrics.classification_report(y_test_edit, predictions1 )\n",
    "print(cf_report)"
   ]
  },
  {
   "cell_type": "code",
   "execution_count": 23,
   "metadata": {
    "colab": {
     "base_uri": "https://localhost:8080/",
     "height": 333
    },
    "executionInfo": {
     "elapsed": 1067,
     "status": "ok",
     "timestamp": 1641388525851,
     "user": {
      "displayName": "Pramod M",
      "photoUrl": "https://lh3.googleusercontent.com/a-/AOh14GhACZYYVJf7SJ3fexsWl8-NZ0E9GwdA3AYfAwMLdQU=s64",
      "userId": "13057132913855779854"
     },
     "user_tz": -330
    },
    "id": "lBkOY0uoSNcq",
    "outputId": "e51d8cfa-ebd5-45b4-c991-7b423d3aca9e"
   },
   "outputs": [
    {
     "data": {
      "text/plain": [
       "<Axes: >"
      ]
     },
     "execution_count": 23,
     "metadata": {},
     "output_type": "execute_result"
    },
    {
     "data": {
      "image/png": "[encoded data removed]",
      "text/plain": [
       "<Figure size 640x480 with 2 Axes>"
      ]
     },
     "metadata": {},
     "output_type": "display_data"
    }
   ],
   "source": [
    "cf_matrix = sklearn.metrics.confusion_matrix(y_test_edit, predictions1)\n",
    "sns.heatmap(cf_matrix, cmap = 'Blues', linewidth = 1, annot = True, xticklabels=labels, yticklabels=labels, fmt='d')"
   ]
  },
  {
   "cell_type": "code",
   "execution_count": 24,
   "metadata": {
    "id": "y2RL4B6pPkWS"
   },
   "outputs": [
    {
     "name": "stderr",
     "output_type": "stream",
     "text": [
      "C:\\Users\\jentl\\AppData\\Local\\anaconda3\\lib\\site-packages\\keras\\src\\engine\\training.py:3000: UserWarning: You are saving your model as an HDF5 file via `model.save()`. This file format is considered legacy. We recommend using instead the native Keras format, e.g. `model.save('my_model.keras')`.\n",
      "  saving_api.save_model(\n"
     ]
    }
   ],
   "source": [
    "model1.save(\"mobilenet1.h5\")"
   ]
  },
  {
   "cell_type": "code",
   "execution_count": null,
   "metadata": {
    "id": "vBuMHP2cPnEA"
   },
   "outputs": [],
   "source": []
  },
  {
   "cell_type": "code",
   "execution_count": null,
   "metadata": {},
   "outputs": [],
   "source": []
  }
 ],
 "metadata": {
  "accelerator": "GPU",
  "colab": {
   "gpuType": "T4",
   "provenance": [
    {
     "file_id": "1UDNpOoN-FG808woHpeS5wPBoVBKXBFPp",
     "timestamp": 1690963830999
    },
    {
     "file_id": "15TRNeaJFRiEWpvIVFACiYSLuRCMa3dHh",
     "timestamp": 1641132298645
    }
   ]
  },
  "interpreter": {
   "hash": "41b2d8f172f7b286fef524e82d995469337168c970c574aba22aee4fd43d553b"
  },
  "kernelspec": {
   "display_name": "Python 3 (ipykernel)",
   "language": "python",
   "name": "python3"
  },
  "language_info": {
   "codemirror_mode": {
    "name": "ipython",
    "version": 3
   },
   "file_extension": ".py",
   "mimetype": "text/x-python",
   "name": "python",
   "nbconvert_exporter": "python",
   "pygments_lexer": "ipython3",
   "version": "3.10.9"
  }
 },
 "nbformat": 4,
 "nbformat_minor": 1
}
