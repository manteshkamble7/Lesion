{
 "cells": [
  {
   "cell_type": "code",
   "execution_count": 3,
   "metadata": {},
   "outputs": [
    {
     "name": "stdout",
     "output_type": "stream",
     "text": [
      "Collecting opencv-python\n",
      "  Downloading opencv_python-4.8.0.74-cp37-abi3-win_amd64.whl (38.1 MB)\n",
      "     ---------------------------------------- 38.1/38.1 MB 2.9 MB/s eta 0:00:00\n",
      "Requirement already satisfied: numpy>=1.21.2 in c:\\users\\jentl\\appdata\\local\\anaconda3\\lib\\site-packages (from opencv-python) (1.23.5)\n",
      "Installing collected packages: opencv-python\n",
      "Successfully installed opencv-python-4.8.0.74\n",
      "Note: you may need to restart the kernel to use updated packages.\n"
     ]
    }
   ],
   "source": [
    "pip install opencv-python"
   ]
  },
  {
   "cell_type": "code",
   "execution_count": 4,
   "metadata": {
    "id": "bEisFVhWSNbr"
   },
   "outputs": [],
   "source": [
    "import numpy as np # l|inear algebra\n",
    "import pandas as pd # data processing, CSV file I/O (e.g. pd.read_csv)"
   ]
  },
  {
   "cell_type": "code",
   "execution_count": 5,
   "metadata": {
    "id": "88UdiqUUSNbx"
   },
   "outputs": [],
   "source": [
    "# Imports\n",
    "import matplotlib.pyplot as plt\n",
    "import seaborn as sns\n",
    "import cv2\n",
    "import sklearn\n",
    "import random\n",
    "import tensorflow as tf\n",
    "import os\n",
    "from tqdm import tqdm\n",
    "from tensorflow.keras.preprocessing.image import ImageDataGenerator"
   ]
  },
  {
   "cell_type": "code",
   "execution_count": 14,
   "metadata": {
    "id": "StbZC0gjSNb6"
   },
   "outputs": [],
   "source": [
    "# base_path and labels.\n",
    "base_path = 'C:/Users/jentl/Downloads/ISIC2019_HALF'\n",
    "labels = ['AK', 'BCC', 'BKL' ,'DF' ,'MEL' ,'NV' , 'SCC' , 'VASC']"
   ]
  },
  {
   "cell_type": "code",
   "execution_count": 16,
   "metadata": {
    "id": "WMGciPYkSNb7"
   },
   "outputs": [],
   "source": [
    "# Constants\n",
    "IMAGE_SIZE = 224\n",
    "BATCH_SIZE = 64\n",
    "VERBOSE = 1"
   ]
  },
  {
   "cell_type": "code",
   "execution_count": null,
   "metadata": {
    "id": "VjxJacbAwDuM"
   },
   "outputs": [],
   "source": []
  },
  {
   "cell_type": "code",
   "execution_count": 17,
   "metadata": {
    "colab": {
     "base_uri": "https://localhost:8080/"
    },
    "executionInfo": {
     "elapsed": 239740,
     "status": "ok",
     "timestamp": 1641384231973,
     "user": {
      "displayName": "Pramod M",
      "photoUrl": "https://lh3.googleusercontent.com/a-/AOh14GhACZYYVJf7SJ3fexsWl8-NZ0E9GwdA3AYfAwMLdQU=s64",
      "userId": "13057132913855779854"
     },
     "user_tz": -330
    },
    "id": "XSe7bDxUwEPY",
    "outputId": "2ce1c931-f25d-46b0-d483-c8ca836bebb2"
   },
   "outputs": [
    {
     "name": "stderr",
     "output_type": "stream",
     "text": [
      "100%|████████████████████████████████████████████████████████████████████████████████| 240/240 [00:03<00:00, 60.64it/s]\n",
      "100%|████████████████████████████████████████████████████████████████████████████████| 380/380 [00:07<00:00, 49.07it/s]\n",
      "100%|███████████████████████████████████████████████████████████████████████████████| 390/390 [00:03<00:00, 124.08it/s]\n",
      "100%|████████████████████████████████████████████████████████████████████████████████| 140/140 [00:01<00:00, 97.73it/s]\n",
      "100%|████████████████████████████████████████████████████████████████████████████████| 280/280 [00:03<00:00, 83.86it/s]\n",
      "100%|████████████████████████████████████████████████████████████████████████████████| 310/310 [00:03<00:00, 81.10it/s]\n",
      "100%|████████████████████████████████████████████████████████████████████████████████| 280/280 [00:03<00:00, 86.76it/s]\n",
      "100%|████████████████████████████████████████████████████████████████████████████████| 133/133 [00:01<00:00, 97.82it/s]\n"
     ]
    },
    {
     "name": "stdout",
     "output_type": "stream",
     "text": [
      "Training dataset Loading complete.\n",
      "Testing dataset Loading complete.\n"
     ]
    }
   ],
   "source": [
    "# Dataset from the training folder.\n",
    "x_train=[]\n",
    "y_train=[]\n",
    "for i in labels:\n",
    "    folderPath = os.path.join(os.path.join(base_path,'train'),i)\n",
    "    for j in tqdm(os.listdir(folderPath)):\n",
    "        img = cv2.imread(os.path.join(folderPath,j))\n",
    "        img = cv2.resize(img, (IMAGE_SIZE,IMAGE_SIZE))\n",
    "        x_train.append(img)\n",
    "        y_train.append(i)\n",
    "print('Training dataset Loading complete.')\n",
    "x_train = np.array(x_train)\n",
    "y_train = np.array(y_train)\n",
    "x_train, y_train = sklearn.utils.shuffle(x_train, y_train, random_state=0)\n",
    "\n",
    "print('Testing dataset Loading complete.')"
   ]
  },
  {
   "cell_type": "code",
   "execution_count": 21,
   "metadata": {
    "colab": {
     "base_uri": "https://localhost:8080/"
    },
    "executionInfo": {
     "elapsed": 55141,
     "status": "ok",
     "timestamp": 1641384287092,
     "user": {
      "displayName": "Pramod M",
      "photoUrl": "https://lh3.googleusercontent.com/a-/AOh14GhACZYYVJf7SJ3fexsWl8-NZ0E9GwdA3AYfAwMLdQU=s64",
      "userId": "13057132913855779854"
     },
     "user_tz": -330
    },
    "id": "8M6DGgR2TcO2",
    "outputId": "7b1040b1-d411-4336-9cbc-13289966476b"
   },
   "outputs": [
    {
     "name": "stderr",
     "output_type": "stream",
     "text": [
      "100%|████████████████████████████████████████████████████████████████████████████████| 200/200 [00:03<00:00, 50.06it/s]\n",
      "100%|████████████████████████████████████████████████████████████████████████████████| 160/160 [00:03<00:00, 48.55it/s]\n",
      "100%|███████████████████████████████████████████████████████████████████████████████| 190/190 [00:01<00:00, 125.23it/s]\n",
      "100%|██████████████████████████████████████████████████████████████████████████████████| 50/50 [00:00<00:00, 50.63it/s]\n",
      "100%|███████████████████████████████████████████████████████████████████████████████| 230/230 [00:01<00:00, 116.83it/s]\n",
      "100%|████████████████████████████████████████████████████████████████████████████████| 200/200 [00:02<00:00, 91.42it/s]\n",
      "100%|████████████████████████████████████████████████████████████████████████████████| 150/150 [00:02<00:00, 50.42it/s]\n",
      "100%|█████████████████████████████████████████████████████████████████████████████████| 70/70 [00:00<00:00, 121.57it/s]\n"
     ]
    },
    {
     "name": "stdout",
     "output_type": "stream",
     "text": [
      "Training dataset Loading complete.\n",
      "Testing dataset Loading complete.\n"
     ]
    }
   ],
   "source": [
    "# Dataset from the training folder.\n",
    "x_test=[]\n",
    "y_test=[]\n",
    "for i in labels:\n",
    "    folderPath = os.path.join(os.path.join(base_path,'test'),i)\n",
    "    for j in tqdm(os.listdir(folderPath)):\n",
    "        img = cv2.imread(os.path.join(folderPath,j))\n",
    "        img = cv2.resize(img, (IMAGE_SIZE,IMAGE_SIZE))\n",
    "        x_test.append(img)\n",
    "        y_test.append(i)\n",
    "print('Training dataset Loading complete.')\n",
    "x_test = np.array(x_test)\n",
    "y_test = np.array(y_test)\n",
    "x_test, y_test = sklearn.utils.shuffle(x_test, y_test, random_state=0)\n",
    "\n",
    "print('Testing dataset Loading complete.')"
   ]
  },
  {
   "cell_type": "code",
   "execution_count": 22,
   "metadata": {
    "colab": {
     "base_uri": "https://localhost:8080/"
    },
    "executionInfo": {
     "elapsed": 22677,
     "status": "ok",
     "timestamp": 1641384309740,
     "user": {
      "displayName": "Pramod M",
      "photoUrl": "https://lh3.googleusercontent.com/a-/AOh14GhACZYYVJf7SJ3fexsWl8-NZ0E9GwdA3AYfAwMLdQU=s64",
      "userId": "13057132913855779854"
     },
     "user_tz": -330
    },
    "id": "BCR2PN-vwEPZ",
    "outputId": "d8af1211-432a-4b8a-c03c-f7d905ece418"
   },
   "outputs": [
    {
     "name": "stderr",
     "output_type": "stream",
     "text": [
      "100%|████████████████████████████████████████████████████████████████████████████████| 200/200 [00:04<00:00, 46.94it/s]\n",
      "100%|████████████████████████████████████████████████████████████████████████████████| 233/233 [00:04<00:00, 49.27it/s]\n",
      "100%|████████████████████████████████████████████████████████████████████████████████| 210/210 [00:04<00:00, 49.14it/s]\n",
      "100%|██████████████████████████████████████████████████████████████████████████████████| 49/49 [00:00<00:00, 50.61it/s]\n",
      "100%|███████████████████████████████████████████████████████████████████████████████| 230/230 [00:01<00:00, 119.30it/s]\n",
      "100%|████████████████████████████████████████████████████████████████████████████████| 210/210 [00:04<00:00, 49.30it/s]\n",
      "100%|████████████████████████████████████████████████████████████████████████████████| 108/108 [00:02<00:00, 48.56it/s]\n",
      "100%|██████████████████████████████████████████████████████████████████████████████████| 70/70 [00:00<00:00, 89.41it/s]\n"
     ]
    },
    {
     "name": "stdout",
     "output_type": "stream",
     "text": [
      "validation dataset Loading complete.\n"
     ]
    }
   ],
   "source": [
    "x_val=[]\n",
    "y_val=[]\n",
    "for i in labels:\n",
    "    folderPath = os.path.join(os.path.join(base_path,'val'),i)\n",
    "    for j in tqdm(os.listdir(folderPath)):\n",
    "        img = cv2.imread(os.path.join(folderPath,j))\n",
    "        img = cv2.resize(img, (IMAGE_SIZE,IMAGE_SIZE))\n",
    "        x_val.append(img)\n",
    "        y_val.append(i)\n",
    "x_val = np.array(x_val)\n",
    "y_val = np.array(y_val)\n",
    "x_val, y_val = sklearn.utils.shuffle(x_val, y_val, random_state=0)\n",
    "\n",
    "print('validation dataset Loading complete.')"
   ]
  },
  {
   "cell_type": "code",
   "execution_count": 23,
   "metadata": {
    "id": "JVOOPduPSNcK"
   },
   "outputs": [],
   "source": [
    "# j=0\n",
    "# for i in labels:\n",
    "#     j=0\n",
    "#     while True :\n",
    "#         if y_train[j]==i:\n",
    "#             plt.figure(figsize = (5,5))\n",
    "#             plt.imshow(x_train[j])\n",
    "#             plt.title(y_train[j])\n",
    "#             break\n",
    "#         j+=1"
   ]
  },
  {
   "cell_type": "code",
   "execution_count": 24,
   "metadata": {
    "colab": {
     "base_uri": "https://localhost:8080/"
    },
    "executionInfo": {
     "elapsed": 22,
     "status": "ok",
     "timestamp": 1641384309741,
     "user": {
      "displayName": "Pramod M",
      "photoUrl": "https://lh3.googleusercontent.com/a-/AOh14GhACZYYVJf7SJ3fexsWl8-NZ0E9GwdA3AYfAwMLdQU=s64",
      "userId": "13057132913855779854"
     },
     "user_tz": -330
    },
    "id": "b50ZXx_dSNcL",
    "outputId": "8f797bde-a630-4664-ea05-e20abc024881"
   },
   "outputs": [
    {
     "data": {
      "text/plain": [
       "(2153, 224, 224, 3)"
      ]
     },
     "execution_count": 24,
     "metadata": {},
     "output_type": "execute_result"
    }
   ],
   "source": [
    "# datagen = ImageDataGenerator(\n",
    "#     featurewise_center=False,\n",
    "#     samplewise_center=False,\n",
    "#     featurewise_std_normalization=False,\n",
    "#     samplewise_std_normalization=False,\n",
    "#     zca_whitening=False,\n",
    "#     rotation_range=30,\n",
    "#     width_shift_range=0.1,\n",
    "#     height_shift_range=0.1,\n",
    "#     zoom_range=0.2,\n",
    "#     horizontal_flip=True, vertical_flip=False\n",
    "# )\n",
    "\n",
    "# datagen.fit(x_train)\n",
    "x_train.shape"
   ]
  },
  {
   "cell_type": "code",
   "execution_count": 25,
   "metadata": {
    "id": "PgBOtkUCSNcM"
   },
   "outputs": [],
   "source": [
    "# # Splitting of dataset for Testing.\n",
    "# from sklearn.model_selection import train_test_split\n",
    "# x_train, x_test, y_train, y_test = train_test_split(x_train, y_train, random_state=0)\n",
    "\n",
    "# print(\"Shapes X : Train :\",x_train.shape,  \" Test :\",x_test.shape)\n",
    "# print(\"Shapes Y : Train :\",y_train.shape,  \" Test :\",y_test.shape)"
   ]
  },
  {
   "cell_type": "code",
   "execution_count": 26,
   "metadata": {
    "id": "N-eR6jTDSNcN"
   },
   "outputs": [],
   "source": [
    "y_train_new = []\n",
    "for i in y_train:\n",
    "    y_train_new.append(labels.index(i))\n",
    "y_train = y_train_new\n",
    "y_train = tf.keras.utils.to_categorical(y_train)\n",
    "\n",
    "\n",
    "y_test_new = []\n",
    "for i in y_test:\n",
    "    y_test_new.append(labels.index(i))\n",
    "y_test = y_test_new\n",
    "y_test = tf.keras.utils.to_categorical(y_test)"
   ]
  },
  {
   "cell_type": "code",
   "execution_count": 27,
   "metadata": {
    "id": "XKHL5e7TAWo7"
   },
   "outputs": [],
   "source": [
    "y_val_new = []\n",
    "for i in y_val:\n",
    "    y_val_new.append(labels.index(i))\n",
    "y_val = y_val_new\n",
    "y_val = tf.keras.utils.to_categorical(y_val)"
   ]
  },
  {
   "cell_type": "code",
   "execution_count": 28,
   "metadata": {
    "colab": {
     "base_uri": "https://localhost:8080/"
    },
    "executionInfo": {
     "elapsed": 19,
     "status": "ok",
     "timestamp": 1641384309743,
     "user": {
      "displayName": "Pramod M",
      "photoUrl": "https://lh3.googleusercontent.com/a-/AOh14GhACZYYVJf7SJ3fexsWl8-NZ0E9GwdA3AYfAwMLdQU=s64",
      "userId": "13057132913855779854"
     },
     "user_tz": -330
    },
    "id": "GGH5sx3Onmai",
    "outputId": "726d648b-2281-4d2b-9449-1b26c7b45477"
   },
   "outputs": [
    {
     "data": {
      "text/plain": [
       "<function keras.src.applications.efficientnet.preprocess_input(x, data_format=None)>"
      ]
     },
     "execution_count": 28,
     "metadata": {},
     "output_type": "execute_result"
    }
   ],
   "source": [
    "import tensorflow as tf\n",
    "tf.keras.applications.efficientnet.preprocess_input"
   ]
  },
  {
   "cell_type": "code",
   "execution_count": 29,
   "metadata": {
    "colab": {
     "base_uri": "https://localhost:8080/"
    },
    "executionInfo": {
     "elapsed": 5104,
     "status": "ok",
     "timestamp": 1641384314830,
     "user": {
      "displayName": "Pramod M",
      "photoUrl": "https://lh3.googleusercontent.com/a-/AOh14GhACZYYVJf7SJ3fexsWl8-NZ0E9GwdA3AYfAwMLdQU=s64",
      "userId": "13057132913855779854"
     },
     "user_tz": -330
    },
    "id": "3PjPqMF1SNcP",
    "outputId": "c64fb4a8-5f0e-415e-b7e2-9236b05f6281"
   },
   "outputs": [
    {
     "name": "stdout",
     "output_type": "stream",
     "text": [
      "Downloading data from https://storage.googleapis.com/keras-applications/efficientnetb0_notop.h5\n",
      "16705208/16705208 [==============================] - 4s 0us/step\n"
     ]
    }
   ],
   "source": [
    "# Importing the model and initializing.\n",
    "from tensorflow.keras.applications import EfficientNetB0\n",
    "effnet = EfficientNetB0(weights = 'imagenet',include_top=False,input_shape=(IMAGE_SIZE,IMAGE_SIZE, 3))"
   ]
  },
  {
   "cell_type": "code",
   "execution_count": 30,
   "metadata": {
    "id": "kZcidnyhSNcP"
   },
   "outputs": [],
   "source": [
    "# Adding Top Layers.\n",
    "model1 = effnet.output\n",
    "model1 = tf.keras.layers.GlobalAveragePooling2D()(model1)\n",
    "model1 = tf.keras.layers.Dropout(0.5)(model1)\n",
    "model1 = tf.keras.layers.Dense(8, activation = 'softmax')(model1)\n",
    "model1 = tf.keras.models.Model(inputs = effnet.input, outputs = model1)\n",
    "\n",
    "# Model summary.\n",
    "# model1.summary()"
   ]
  },
  {
   "cell_type": "code",
   "execution_count": 31,
   "metadata": {
    "id": "9yf66GhjSNcQ"
   },
   "outputs": [],
   "source": [
    "# Compiling Model\n",
    "# model1.compile(loss = 'categorical_crossentropy', optimizer ='sgdm', metrics=['accuracy'])\n",
    "# # Callbacks.\n",
    "# from tensorflow.keras.callbacks import EarlyStopping, ReduceLROnPlateau, TensorBoard, ModelCheckpoint\n",
    "# tensorboard = TensorBoard(log_dir = 'logs')\n",
    "# checkpoint = ModelCheckpoint(\"effnet1.h5\",monitor=\"val_accuracy\",save_best_only=True,mode=\"auto\",verbose=1)\n",
    "# reduce_lr = ReduceLROnPlateau(monitor = 'val_accuracy', factor = 0.3, patience = 5, min_delta = 0.0001,mode='auto',verbose=VERBOSE)"
   ]
  },
  {
   "cell_type": "code",
   "execution_count": 32,
   "metadata": {
    "id": "pG8FBqkPRw2v"
   },
   "outputs": [],
   "source": [
    "# Compiling Model\n",
    "model1.compile(loss = 'categorical_crossentropy', optimizer ='adam', metrics=['accuracy'])\n",
    "# Callbacks.\n",
    "from tensorflow.keras.callbacks import EarlyStopping, ReduceLROnPlateau, TensorBoard, ModelCheckpoint\n",
    "tensorboard = TensorBoard(log_dir = 'logs')\n",
    "checkpoint = ModelCheckpoint(\"effnet1.h5\",monitor=\"val_accuracy\",save_best_only=True,mode=\"auto\",verbose=1)\n",
    "reduce_lr = ReduceLROnPlateau(monitor = 'val_accuracy', factor = 0.3, patience = 5, min_delta = 0.0001,mode='auto',verbose=VERBOSE)"
   ]
  },
  {
   "cell_type": "code",
   "execution_count": 33,
   "metadata": {
    "colab": {
     "base_uri": "https://localhost:8080/"
    },
    "executionInfo": {
     "elapsed": 4173906,
     "status": "ok",
     "timestamp": 1641388489398,
     "user": {
      "displayName": "Pramod M",
      "photoUrl": "https://lh3.googleusercontent.com/a-/AOh14GhACZYYVJf7SJ3fexsWl8-NZ0E9GwdA3AYfAwMLdQU=s64",
      "userId": "13057132913855779854"
     },
     "user_tz": -330
    },
    "id": "iL8Vldw1SNcR",
    "outputId": "70f0be14-c5bb-4fb7-87d0-c096e0b00b44"
   },
   "outputs": [
    {
     "name": "stdout",
     "output_type": "stream",
     "text": [
      "Epoch 1/20\n",
      "34/34 [==============================] - ETA: 0s - loss: 1.2787 - accuracy: 0.5309 \n",
      "Epoch 1: val_accuracy improved from -inf to 0.29160, saving model to effnet1.h5\n"
     ]
    },
    {
     "name": "stderr",
     "output_type": "stream",
     "text": [
      "C:\\Users\\jentl\\AppData\\Local\\anaconda3\\lib\\site-packages\\keras\\src\\engine\\training.py:3000: UserWarning: You are saving your model as an HDF5 file via `model.save()`. This file format is considered legacy. We recommend using instead the native Keras format, e.g. `model.save('my_model.keras')`.\n",
      "  saving_api.save_model(\n"
     ]
    },
    {
     "name": "stdout",
     "output_type": "stream",
     "text": [
      "34/34 [==============================] - 590s 17s/step - loss: 1.2787 - accuracy: 0.5309 - val_loss: 2.3596 - val_accuracy: 0.2916 - lr: 0.0010\n",
      "Epoch 2/20\n",
      "34/34 [==============================] - ETA: 0s - loss: 0.5561 - accuracy: 0.7989 \n",
      "Epoch 2: val_accuracy improved from 0.29160 to 0.32595, saving model to effnet1.h5\n",
      "34/34 [==============================] - 569s 17s/step - loss: 0.5561 - accuracy: 0.7989 - val_loss: 3.2474 - val_accuracy: 0.3260 - lr: 0.0010\n",
      "Epoch 3/20\n",
      "34/34 [==============================] - ETA: 0s - loss: 0.2834 - accuracy: 0.9029 \n",
      "Epoch 3: val_accuracy improved from 0.32595 to 0.35038, saving model to effnet1.h5\n",
      "34/34 [==============================] - 569s 17s/step - loss: 0.2834 - accuracy: 0.9029 - val_loss: 3.0857 - val_accuracy: 0.3504 - lr: 0.0010\n",
      "Epoch 4/20\n",
      "34/34 [==============================] - ETA: 0s - loss: 0.1908 - accuracy: 0.9345 \n",
      "Epoch 4: val_accuracy did not improve from 0.35038\n",
      "34/34 [==============================] - 566s 17s/step - loss: 0.1908 - accuracy: 0.9345 - val_loss: 4.5926 - val_accuracy: 0.3260 - lr: 0.0010\n",
      "Epoch 5/20\n",
      "34/34 [==============================] - ETA: 0s - loss: 0.1309 - accuracy: 0.9549 \n",
      "Epoch 5: val_accuracy improved from 0.35038 to 0.36718, saving model to effnet1.h5\n",
      "34/34 [==============================] - 561s 17s/step - loss: 0.1309 - accuracy: 0.9549 - val_loss: 4.7748 - val_accuracy: 0.3672 - lr: 0.0010\n",
      "Epoch 6/20\n",
      "34/34 [==============================] - ETA: 0s - loss: 0.1645 - accuracy: 0.9484 \n",
      "Epoch 6: val_accuracy did not improve from 0.36718\n",
      "34/34 [==============================] - 557s 16s/step - loss: 0.1645 - accuracy: 0.9484 - val_loss: 4.2298 - val_accuracy: 0.3634 - lr: 0.0010\n",
      "Epoch 7/20\n",
      "34/34 [==============================] - ETA: 0s - loss: 0.1033 - accuracy: 0.9661 \n",
      "Epoch 7: val_accuracy improved from 0.36718 to 0.38015, saving model to effnet1.h5\n",
      "34/34 [==============================] - 558s 16s/step - loss: 0.1033 - accuracy: 0.9661 - val_loss: 4.1320 - val_accuracy: 0.3802 - lr: 0.0010\n",
      "Epoch 8/20\n",
      "34/34 [==============================] - ETA: 0s - loss: 0.1199 - accuracy: 0.9601 \n",
      "Epoch 8: val_accuracy improved from 0.38015 to 0.39695, saving model to effnet1.h5\n",
      "34/34 [==============================] - 563s 17s/step - loss: 0.1199 - accuracy: 0.9601 - val_loss: 4.1923 - val_accuracy: 0.3969 - lr: 0.0010\n",
      "Epoch 9/20\n",
      "34/34 [==============================] - ETA: 0s - loss: 0.0962 - accuracy: 0.9689 \n",
      "Epoch 9: val_accuracy did not improve from 0.39695\n",
      "34/34 [==============================] - 560s 17s/step - loss: 0.0962 - accuracy: 0.9689 - val_loss: 5.2089 - val_accuracy: 0.3832 - lr: 0.0010\n",
      "Epoch 10/20\n",
      "34/34 [==============================] - ETA: 0s - loss: 0.0889 - accuracy: 0.9675 \n",
      "Epoch 10: val_accuracy improved from 0.39695 to 0.42443, saving model to effnet1.h5\n",
      "34/34 [==============================] - 559s 16s/step - loss: 0.0889 - accuracy: 0.9675 - val_loss: 4.1034 - val_accuracy: 0.4244 - lr: 0.0010\n",
      "Epoch 11/20\n",
      "34/34 [==============================] - ETA: 0s - loss: 0.0623 - accuracy: 0.9786 \n",
      "Epoch 11: val_accuracy did not improve from 0.42443\n",
      "34/34 [==============================] - 559s 17s/step - loss: 0.0623 - accuracy: 0.9786 - val_loss: 3.9344 - val_accuracy: 0.4145 - lr: 0.0010\n",
      "Epoch 12/20\n",
      "34/34 [==============================] - ETA: 0s - loss: 0.0875 - accuracy: 0.9731 \n",
      "Epoch 12: val_accuracy did not improve from 0.42443\n",
      "34/34 [==============================] - 558s 16s/step - loss: 0.0875 - accuracy: 0.9731 - val_loss: 3.8055 - val_accuracy: 0.4137 - lr: 0.0010\n",
      "Epoch 13/20\n",
      "34/34 [==============================] - ETA: 0s - loss: 0.0941 - accuracy: 0.9721 \n",
      "Epoch 13: val_accuracy did not improve from 0.42443\n",
      "34/34 [==============================] - 557s 16s/step - loss: 0.0941 - accuracy: 0.9721 - val_loss: 3.7068 - val_accuracy: 0.4176 - lr: 0.0010\n",
      "Epoch 14/20\n",
      "34/34 [==============================] - ETA: 0s - loss: 0.0607 - accuracy: 0.9814 \n",
      "Epoch 14: val_accuracy did not improve from 0.42443\n",
      "34/34 [==============================] - 584s 17s/step - loss: 0.0607 - accuracy: 0.9814 - val_loss: 4.0461 - val_accuracy: 0.3901 - lr: 0.0010\n",
      "Epoch 15/20\n",
      "34/34 [==============================] - ETA: 0s - loss: 0.0599 - accuracy: 0.9791 \n",
      "Epoch 15: val_accuracy improved from 0.42443 to 0.42672, saving model to effnet1.h5\n",
      "34/34 [==============================] - 618s 18s/step - loss: 0.0599 - accuracy: 0.9791 - val_loss: 3.7443 - val_accuracy: 0.4267 - lr: 0.0010\n",
      "Epoch 16/20\n",
      "34/34 [==============================] - ETA: 0s - loss: 0.0458 - accuracy: 0.9837 \n",
      "Epoch 16: val_accuracy did not improve from 0.42672\n",
      "34/34 [==============================] - 577s 17s/step - loss: 0.0458 - accuracy: 0.9837 - val_loss: 4.0634 - val_accuracy: 0.4252 - lr: 0.0010\n",
      "Epoch 17/20\n",
      "34/34 [==============================] - ETA: 0s - loss: 0.0635 - accuracy: 0.9800 \n",
      "Epoch 17: val_accuracy did not improve from 0.42672\n",
      "34/34 [==============================] - 566s 17s/step - loss: 0.0635 - accuracy: 0.9800 - val_loss: 4.1205 - val_accuracy: 0.3809 - lr: 0.0010\n",
      "Epoch 18/20\n",
      "34/34 [==============================] - ETA: 0s - loss: 0.0580 - accuracy: 0.9856 \n",
      "Epoch 18: val_accuracy did not improve from 0.42672\n",
      "34/34 [==============================] - 560s 17s/step - loss: 0.0580 - accuracy: 0.9856 - val_loss: 4.4963 - val_accuracy: 0.4107 - lr: 0.0010\n",
      "Epoch 19/20\n",
      "34/34 [==============================] - ETA: 0s - loss: 0.0541 - accuracy: 0.9833 \n",
      "Epoch 19: val_accuracy did not improve from 0.42672\n",
      "34/34 [==============================] - 563s 17s/step - loss: 0.0541 - accuracy: 0.9833 - val_loss: 3.7566 - val_accuracy: 0.3977 - lr: 0.0010\n",
      "Epoch 20/20\n",
      "34/34 [==============================] - ETA: 0s - loss: 0.0428 - accuracy: 0.9828 \n",
      "Epoch 20: val_accuracy did not improve from 0.42672\n",
      "\n",
      "Epoch 20: ReduceLROnPlateau reducing learning rate to 0.0003000000142492354.\n",
      "34/34 [==============================] - 566s 17s/step - loss: 0.0428 - accuracy: 0.9828 - val_loss: 4.3197 - val_accuracy: 0.4107 - lr: 0.0010\n"
     ]
    }
   ],
   "source": [
    "# Fitting the model\n",
    "history1 = model1.fit(x_train, y_train, validation_data=(x_val,y_val), epochs = 20, verbose =VERBOSE, batch_size=BATCH_SIZE, callbacks=[tensorboard,checkpoint,reduce_lr])"
   ]
  },
  {
   "cell_type": "code",
   "execution_count": 39,
   "metadata": {
    "colab": {
     "base_uri": "https://localhost:8080/",
     "height": 458
    },
    "executionInfo": {
     "elapsed": 11,
     "status": "ok",
     "timestamp": 1641388489399,
     "user": {
      "displayName": "Pramod M",
      "photoUrl": "https://lh3.googleusercontent.com/a-/AOh14GhACZYYVJf7SJ3fexsWl8-NZ0E9GwdA3AYfAwMLdQU=s64",
      "userId": "13057132913855779854"
     },
     "user_tz": -330
    },
    "id": "G35iev0FSNcS",
    "outputId": "6b7c6b9c-d5c7-4867-da23-b2e6b2c3b186"
   },
   "outputs": [
    {
     "data": {
      "image/png": "[encoded data removed]",
      "text/plain": [
       "<Figure size 1400x700 with 2 Axes>"
      ]
     },
     "metadata": {},
     "output_type": "display_data"
    }
   ],
   "source": [
    "epochs = [i for i in range(20)]\n",
    "fig, ax = plt.subplots(1,2)\n",
    "train_acc = history1.history['accuracy']\n",
    "train_loss = history1.history['loss']\n",
    "val_acc = history1.history['val_accuracy']\n",
    "val_loss = history1.history['val_loss']\n",
    "fig.set_size_inches(14, 7)\n",
    "\n",
    "ax[0].plot(epochs, train_acc, 'go-', label = 'Training Accuracy')\n",
    "ax[0].plot(epochs, val_acc, 'ro-', label = 'Validation Accuracy')\n",
    "ax[0].set_title('Training & Validation Accuracy')\n",
    "ax[0].legend()\n",
    "ax[0].set_xlabel('Epochs')\n",
    "ax[0].set_ylabel('Accuracy')\n",
    "\n",
    "ax[1].plot(epochs, train_loss, 'g-o', label ='Training Loss')\n",
    "ax[1].plot(epochs, val_loss, 'r-o', label = 'Validation Loss')\n",
    "ax[1].set_title('Testing Accuracy & Loss')\n",
    "ax[1].legend()\n",
    "ax[1].set_xlabel('Epochs')\n",
    "ax[1].set_ylabel('Training & Validation Loss')\n",
    "plt.show()"
   ]
  },
  {
   "cell_type": "code",
   "execution_count": 35,
   "metadata": {
    "colab": {
     "base_uri": "https://localhost:8080/"
    },
    "executionInfo": {
     "elapsed": 21039,
     "status": "ok",
     "timestamp": 1641388510432,
     "user": {
      "displayName": "Pramod M",
      "photoUrl": "https://lh3.googleusercontent.com/a-/AOh14GhACZYYVJf7SJ3fexsWl8-NZ0E9GwdA3AYfAwMLdQU=s64",
      "userId": "13057132913855779854"
     },
     "user_tz": -330
    },
    "id": "JzPYPJQVSNcg",
    "outputId": "935a3d45-b49a-48c8-ea8d-659e3c603bed"
   },
   "outputs": [
    {
     "name": "stdout",
     "output_type": "stream",
     "text": [
      "40/40 [==============================] - 72s 2s/step - loss: 4.1062 - accuracy: 0.4448\n",
      "Testing Loss : 4.106164932250977\n",
      "Testing Accuracy : 44.47999894618988 %\n"
     ]
    }
   ],
   "source": [
    "# Evaluating Model.\n",
    "result1=model1.evaluate(x_test, y_test)\n",
    "print(\"Testing Loss :\", result1[0])\n",
    "print(\"Testing Accuracy :\", result1[1]*100, \"%\")"
   ]
  },
  {
   "cell_type": "code",
   "execution_count": 36,
   "metadata": {
    "id": "anXz4qPSSNco"
   },
   "outputs": [
    {
     "name": "stdout",
     "output_type": "stream",
     "text": [
      "40/40 [==============================] - 62s 2s/step\n"
     ]
    }
   ],
   "source": [
    "predictions1 = model1.predict(x_test)\n",
    "predictions1 = np.argmax(predictions1, axis = 1)\n",
    "y_test_edit = np.argmax(y_test , axis = 1)"
   ]
  },
  {
   "cell_type": "code",
   "execution_count": 37,
   "metadata": {
    "colab": {
     "base_uri": "https://localhost:8080/"
    },
    "executionInfo": {
     "elapsed": 28,
     "status": "ok",
     "timestamp": 1641388524803,
     "user": {
      "displayName": "Pramod M",
      "photoUrl": "https://lh3.googleusercontent.com/a-/AOh14GhACZYYVJf7SJ3fexsWl8-NZ0E9GwdA3AYfAwMLdQU=s64",
      "userId": "13057132913855779854"
     },
     "user_tz": -330
    },
    "id": "0cxcGrq-SNcp",
    "outputId": "98bcb5cb-e535-47b7-d559-f3743acd2e8f"
   },
   "outputs": [
    {
     "name": "stdout",
     "output_type": "stream",
     "text": [
      "              precision    recall  f1-score   support\n",
      "\n",
      "           0       0.84      0.29      0.43       200\n",
      "           1       0.35      0.95      0.51       160\n",
      "           2       0.56      0.80      0.66       190\n",
      "           3       0.74      0.34      0.47        50\n",
      "           4       0.25      0.28      0.26       230\n",
      "           5       0.36      0.10      0.16       200\n",
      "           6       0.41      0.17      0.24       150\n",
      "           7       0.93      0.93      0.93        70\n",
      "\n",
      "    accuracy                           0.44      1250\n",
      "   macro avg       0.56      0.48      0.46      1250\n",
      "weighted avg       0.50      0.44      0.41      1250\n",
      "\n"
     ]
    }
   ],
   "source": [
    "# Classification report.\n",
    "from sklearn.metrics import classification_report\n",
    "cf_report = sklearn.metrics.classification_report(y_test_edit, predictions1 )\n",
    "print(cf_report)"
   ]
  },
  {
   "cell_type": "code",
   "execution_count": 38,
   "metadata": {
    "colab": {
     "base_uri": "https://localhost:8080/",
     "height": 333
    },
    "executionInfo": {
     "elapsed": 1067,
     "status": "ok",
     "timestamp": 1641388525851,
     "user": {
      "displayName": "Pramod M",
      "photoUrl": "https://lh3.googleusercontent.com/a-/AOh14GhACZYYVJf7SJ3fexsWl8-NZ0E9GwdA3AYfAwMLdQU=s64",
      "userId": "13057132913855779854"
     },
     "user_tz": -330
    },
    "id": "lBkOY0uoSNcq",
    "outputId": "e51d8cfa-ebd5-45b4-c991-7b423d3aca9e"
   },
   "outputs": [
    {
     "data": {
      "text/plain": [
       "<Axes: >"
      ]
     },
     "execution_count": 38,
     "metadata": {},
     "output_type": "execute_result"
    },
    {
     "data": {
      "image/png": "[encoded data removed]",
      "text/plain": [
       "<Figure size 640x480 with 2 Axes>"
      ]
     },
     "metadata": {},
     "output_type": "display_data"
    }
   ],
   "source": [
    "cf_matrix = sklearn.metrics.confusion_matrix(y_test_edit, predictions1)\n",
    "sns.heatmap(cf_matrix, cmap = 'Blues', linewidth = 1, annot = True, xticklabels=labels, yticklabels=labels, fmt='d')"
   ]
  },
  {
   "cell_type": "code",
   "execution_count": null,
   "metadata": {
    "id": "y2RL4B6pPkWS"
   },
   "outputs": [],
   "source": []
  },
  {
   "cell_type": "code",
   "execution_count": null,
   "metadata": {
    "id": "vBuMHP2cPnEA"
   },
   "outputs": [],
   "source": []
  }
 ],
 "metadata": {
  "accelerator": "GPU",
  "colab": {
   "gpuType": "T4",
   "provenance": [
    {
     "file_id": "1UDNpOoN-FG808woHpeS5wPBoVBKXBFPp",
     "timestamp": 1690963830999
    },
    {
     "file_id": "15TRNeaJFRiEWpvIVFACiYSLuRCMa3dHh",
     "timestamp": 1641132298645
    }
   ]
  },
  "interpreter": {
   "hash": "41b2d8f172f7b286fef524e82d995469337168c970c574aba22aee4fd43d553b"
  },
  "kernelspec": {
   "display_name": "Python 3 (ipykernel)",
   "language": "python",
   "name": "python3"
  },
  "language_info": {
   "codemirror_mode": {
    "name": "ipython",
    "version": 3
   },
   "file_extension": ".py",
   "mimetype": "text/x-python",
   "name": "python",
   "nbconvert_exporter": "python",
   "pygments_lexer": "ipython3",
   "version": "3.10.9"
  }
 },
 "nbformat": 4,
 "nbformat_minor": 1
}
